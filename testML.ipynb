{
 "cells": [
  {
   "cell_type": "code",
   "execution_count": 336,
   "id": "3adcfe4e",
   "metadata": {},
   "outputs": [],
   "source": [
    "#Importing the necessary attributes\n",
    "import numpy as np\n",
    "import pandas as pd\n",
    "import matplotlib.pyplot as plt\n",
    "import datetime as dt\n",
    "from keras import Sequential\n",
    "from keras.layers import Dense, LSTM, Dropout, Activation,TimeDistributed\n",
    "from tensorflow.keras.models import Sequential\n",
    "from keras.layers import SimpleRNN\n",
    "import math\n",
    "from sklearn.metrics import mean_squared_error\n",
    "from statsmodels.tsa.stattools import adfuller\n",
    "from statistics import stdev\n",
    "\n",
    "%matplotlib inline"
   ]
  },
  {
   "cell_type": "code",
   "execution_count": 337,
   "id": "5419f5da",
   "metadata": {},
   "outputs": [
    {
     "data": {
      "text/html": [
       "<div>\n",
       "<style scoped>\n",
       "    .dataframe tbody tr th:only-of-type {\n",
       "        vertical-align: middle;\n",
       "    }\n",
       "\n",
       "    .dataframe tbody tr th {\n",
       "        vertical-align: top;\n",
       "    }\n",
       "\n",
       "    .dataframe thead th {\n",
       "        text-align: right;\n",
       "    }\n",
       "</style>\n",
       "<table border=\"1\" class=\"dataframe\">\n",
       "  <thead>\n",
       "    <tr style=\"text-align: right;\">\n",
       "      <th></th>\n",
       "      <th>Date</th>\n",
       "      <th>Open</th>\n",
       "      <th>High</th>\n",
       "      <th>Low</th>\n",
       "      <th>Close</th>\n",
       "      <th>Adj Close</th>\n",
       "      <th>Volume</th>\n",
       "    </tr>\n",
       "  </thead>\n",
       "  <tbody>\n",
       "    <tr>\n",
       "      <th>0</th>\n",
       "      <td>2004-08-19</td>\n",
       "      <td>50.050049</td>\n",
       "      <td>52.082081</td>\n",
       "      <td>48.028027</td>\n",
       "      <td>50.220219</td>\n",
       "      <td>50.220219</td>\n",
       "      <td>44659096</td>\n",
       "    </tr>\n",
       "    <tr>\n",
       "      <th>1</th>\n",
       "      <td>2004-08-20</td>\n",
       "      <td>50.555557</td>\n",
       "      <td>54.594597</td>\n",
       "      <td>50.300301</td>\n",
       "      <td>54.209209</td>\n",
       "      <td>54.209209</td>\n",
       "      <td>22834343</td>\n",
       "    </tr>\n",
       "    <tr>\n",
       "      <th>2</th>\n",
       "      <td>2004-08-23</td>\n",
       "      <td>55.430431</td>\n",
       "      <td>56.796799</td>\n",
       "      <td>54.579578</td>\n",
       "      <td>54.754753</td>\n",
       "      <td>54.754753</td>\n",
       "      <td>18256126</td>\n",
       "    </tr>\n",
       "    <tr>\n",
       "      <th>3</th>\n",
       "      <td>2004-08-24</td>\n",
       "      <td>55.675674</td>\n",
       "      <td>55.855858</td>\n",
       "      <td>51.836838</td>\n",
       "      <td>52.487488</td>\n",
       "      <td>52.487488</td>\n",
       "      <td>15247337</td>\n",
       "    </tr>\n",
       "    <tr>\n",
       "      <th>4</th>\n",
       "      <td>2004-08-25</td>\n",
       "      <td>52.532532</td>\n",
       "      <td>54.054054</td>\n",
       "      <td>51.991993</td>\n",
       "      <td>53.053055</td>\n",
       "      <td>53.053055</td>\n",
       "      <td>9188602</td>\n",
       "    </tr>\n",
       "  </tbody>\n",
       "</table>\n",
       "</div>"
      ],
      "text/plain": [
       "         Date       Open       High        Low      Close  Adj Close    Volume\n",
       "0  2004-08-19  50.050049  52.082081  48.028027  50.220219  50.220219  44659096\n",
       "1  2004-08-20  50.555557  54.594597  50.300301  54.209209  54.209209  22834343\n",
       "2  2004-08-23  55.430431  56.796799  54.579578  54.754753  54.754753  18256126\n",
       "3  2004-08-24  55.675674  55.855858  51.836838  52.487488  52.487488  15247337\n",
       "4  2004-08-25  52.532532  54.054054  51.991993  53.053055  53.053055   9188602"
      ]
     },
     "execution_count": 337,
     "metadata": {},
     "output_type": "execute_result"
    }
   ],
   "source": [
    "#Open the dataset \n",
    "dataset = pd.read_csv('Desktop/GOOGL.csv')\n",
    "dataset.head()"
   ]
  },
  {
   "cell_type": "code",
   "execution_count": 338,
   "id": "41579a5f",
   "metadata": {},
   "outputs": [
    {
     "data": {
      "text/plain": [
       "(4431, 7)"
      ]
     },
     "execution_count": 338,
     "metadata": {},
     "output_type": "execute_result"
    }
   ],
   "source": [
    "dataset.shape"
   ]
  },
  {
   "cell_type": "code",
   "execution_count": 339,
   "id": "0051c1a9",
   "metadata": {},
   "outputs": [
    {
     "name": "stdout",
     "output_type": "stream",
     "text": [
      "<class 'pandas.core.frame.DataFrame'>\n",
      "RangeIndex: 4431 entries, 0 to 4430\n",
      "Data columns (total 7 columns):\n",
      " #   Column     Non-Null Count  Dtype  \n",
      "---  ------     --------------  -----  \n",
      " 0   Date       4431 non-null   object \n",
      " 1   Open       4431 non-null   float64\n",
      " 2   High       4431 non-null   float64\n",
      " 3   Low        4431 non-null   float64\n",
      " 4   Close      4431 non-null   float64\n",
      " 5   Adj Close  4431 non-null   float64\n",
      " 6   Volume     4431 non-null   int64  \n",
      "dtypes: float64(5), int64(1), object(1)\n",
      "memory usage: 242.4+ KB\n"
     ]
    }
   ],
   "source": [
    "dataset.info()"
   ]
  },
  {
   "cell_type": "code",
   "execution_count": 340,
   "id": "e2c7fee0",
   "metadata": {},
   "outputs": [
    {
     "data": {
      "text/plain": [
       "Date          object\n",
       "Open         float64\n",
       "High         float64\n",
       "Low          float64\n",
       "Close        float64\n",
       "Adj Close    float64\n",
       "Volume         int64\n",
       "dtype: object"
      ]
     },
     "execution_count": 340,
     "metadata": {},
     "output_type": "execute_result"
    }
   ],
   "source": [
    "dataset.dtypes"
   ]
  },
  {
   "cell_type": "code",
   "execution_count": 341,
   "id": "2c7398bb",
   "metadata": {},
   "outputs": [
    {
     "data": {
      "text/plain": [
       "Date         0\n",
       "Open         0\n",
       "High         0\n",
       "Low          0\n",
       "Close        0\n",
       "Adj Close    0\n",
       "Volume       0\n",
       "dtype: int64"
      ]
     },
     "execution_count": 341,
     "metadata": {},
     "output_type": "execute_result"
    }
   ],
   "source": [
    "dataset.isnull().sum()"
   ]
  },
  {
   "cell_type": "code",
   "execution_count": 342,
   "id": "cf3878dd",
   "metadata": {},
   "outputs": [],
   "source": [
    "# change date type to datetime type \n",
    "dataset.Date=pd.to_datetime(dataset['Date'])"
   ]
  },
  {
   "cell_type": "code",
   "execution_count": 343,
   "id": "c555c261",
   "metadata": {},
   "outputs": [
    {
     "data": {
      "text/plain": [
       "(Timestamp('2004-08-19 00:00:00'), Timestamp('2022-03-24 00:00:00'))"
      ]
     },
     "execution_count": 343,
     "metadata": {},
     "output_type": "execute_result"
    }
   ],
   "source": [
    "dataset.Date.min(),dataset.Date.max()"
   ]
  },
  {
   "cell_type": "code",
   "execution_count": 344,
   "id": "c63dedeb",
   "metadata": {},
   "outputs": [
    {
     "data": {
      "text/plain": [
       "Timedelta('6426 days 00:00:00')"
      ]
     },
     "execution_count": 344,
     "metadata": {},
     "output_type": "execute_result"
    }
   ],
   "source": [
    "#how many day\n",
    "dataset.Date.max()-dataset.Date.min()"
   ]
  },
  {
   "cell_type": "code",
   "execution_count": 345,
   "id": "aaed9de3",
   "metadata": {},
   "outputs": [],
   "source": [
    "dataset.set_index('Date',inplace=True)"
   ]
  },
  {
   "cell_type": "code",
   "execution_count": 346,
   "id": "d6674fab",
   "metadata": {},
   "outputs": [
    {
     "data": {
      "text/html": [
       "<div>\n",
       "<style scoped>\n",
       "    .dataframe tbody tr th:only-of-type {\n",
       "        vertical-align: middle;\n",
       "    }\n",
       "\n",
       "    .dataframe tbody tr th {\n",
       "        vertical-align: top;\n",
       "    }\n",
       "\n",
       "    .dataframe thead th {\n",
       "        text-align: right;\n",
       "    }\n",
       "</style>\n",
       "<table border=\"1\" class=\"dataframe\">\n",
       "  <thead>\n",
       "    <tr style=\"text-align: right;\">\n",
       "      <th></th>\n",
       "      <th>Open</th>\n",
       "      <th>High</th>\n",
       "      <th>Low</th>\n",
       "      <th>Close</th>\n",
       "      <th>Adj Close</th>\n",
       "      <th>Volume</th>\n",
       "    </tr>\n",
       "    <tr>\n",
       "      <th>Date</th>\n",
       "      <th></th>\n",
       "      <th></th>\n",
       "      <th></th>\n",
       "      <th></th>\n",
       "      <th></th>\n",
       "      <th></th>\n",
       "    </tr>\n",
       "  </thead>\n",
       "  <tbody>\n",
       "    <tr>\n",
       "      <th>2004-08-19</th>\n",
       "      <td>50.050049</td>\n",
       "      <td>52.082081</td>\n",
       "      <td>48.028027</td>\n",
       "      <td>50.220219</td>\n",
       "      <td>50.220219</td>\n",
       "      <td>44659096</td>\n",
       "    </tr>\n",
       "    <tr>\n",
       "      <th>2004-08-20</th>\n",
       "      <td>50.555557</td>\n",
       "      <td>54.594597</td>\n",
       "      <td>50.300301</td>\n",
       "      <td>54.209209</td>\n",
       "      <td>54.209209</td>\n",
       "      <td>22834343</td>\n",
       "    </tr>\n",
       "    <tr>\n",
       "      <th>2004-08-23</th>\n",
       "      <td>55.430431</td>\n",
       "      <td>56.796799</td>\n",
       "      <td>54.579578</td>\n",
       "      <td>54.754753</td>\n",
       "      <td>54.754753</td>\n",
       "      <td>18256126</td>\n",
       "    </tr>\n",
       "    <tr>\n",
       "      <th>2004-08-24</th>\n",
       "      <td>55.675674</td>\n",
       "      <td>55.855858</td>\n",
       "      <td>51.836838</td>\n",
       "      <td>52.487488</td>\n",
       "      <td>52.487488</td>\n",
       "      <td>15247337</td>\n",
       "    </tr>\n",
       "    <tr>\n",
       "      <th>2004-08-25</th>\n",
       "      <td>52.532532</td>\n",
       "      <td>54.054054</td>\n",
       "      <td>51.991993</td>\n",
       "      <td>53.053055</td>\n",
       "      <td>53.053055</td>\n",
       "      <td>9188602</td>\n",
       "    </tr>\n",
       "  </tbody>\n",
       "</table>\n",
       "</div>"
      ],
      "text/plain": [
       "                 Open       High        Low      Close  Adj Close    Volume\n",
       "Date                                                                       \n",
       "2004-08-19  50.050049  52.082081  48.028027  50.220219  50.220219  44659096\n",
       "2004-08-20  50.555557  54.594597  50.300301  54.209209  54.209209  22834343\n",
       "2004-08-23  55.430431  56.796799  54.579578  54.754753  54.754753  18256126\n",
       "2004-08-24  55.675674  55.855858  51.836838  52.487488  52.487488  15247337\n",
       "2004-08-25  52.532532  54.054054  51.991993  53.053055  53.053055   9188602"
      ]
     },
     "execution_count": 346,
     "metadata": {},
     "output_type": "execute_result"
    }
   ],
   "source": [
    "dataset.head()"
   ]
  },
  {
   "cell_type": "code",
   "execution_count": 347,
   "id": "e743a517",
   "metadata": {},
   "outputs": [
    {
     "data": {
      "text/plain": [
       "443.0"
      ]
     },
     "execution_count": 347,
     "metadata": {},
     "output_type": "execute_result"
    }
   ],
   "source": [
    "#split the data into chunks and \n",
    "# then just compute statistics for each one of\n",
    "#those different chunks. \n",
    "#Then large deviations in either the mean or \n",
    "#variance amongst those chunks would suggest us \n",
    "#that the data is probably not stationary\n",
    "np.round(dataset.shape[0]/10,0)"
   ]
  },
  {
   "cell_type": "code",
   "execution_count": 348,
   "id": "b9d5d174",
   "metadata": {},
   "outputs": [],
   "source": [
    "\n",
    "mean=[]\n",
    "std=[]\n",
    "    \n",
    "for i in range(0,10):\n",
    "    mean.append(dataset['High'].iloc[(i*443):(i*443)+443].mean())\n",
    "    std.append(stdev(dataset['High'].iloc[(i*443):(i*443)+443]))"
   ]
  },
  {
   "cell_type": "code",
   "execution_count": 349,
   "id": "f2a56f0a",
   "metadata": {
    "scrolled": true
   },
   "outputs": [
    {
     "data": {
      "text/html": [
       "<div>\n",
       "<style scoped>\n",
       "    .dataframe tbody tr th:only-of-type {\n",
       "        vertical-align: middle;\n",
       "    }\n",
       "\n",
       "    .dataframe tbody tr th {\n",
       "        vertical-align: top;\n",
       "    }\n",
       "\n",
       "    .dataframe thead th {\n",
       "        text-align: right;\n",
       "    }\n",
       "</style>\n",
       "<table border=\"1\" class=\"dataframe\">\n",
       "  <thead>\n",
       "    <tr style=\"text-align: right;\">\n",
       "      <th></th>\n",
       "      <th>mean</th>\n",
       "      <th>std</th>\n",
       "    </tr>\n",
       "  </thead>\n",
       "  <tbody>\n",
       "    <tr>\n",
       "      <th>0</th>\n",
       "      <td>140.365196</td>\n",
       "      <td>51.153975</td>\n",
       "    </tr>\n",
       "    <tr>\n",
       "      <th>1</th>\n",
       "      <td>253.262980</td>\n",
       "      <td>46.102784</td>\n",
       "    </tr>\n",
       "    <tr>\n",
       "      <th>2</th>\n",
       "      <td>220.912289</td>\n",
       "      <td>43.122744</td>\n",
       "    </tr>\n",
       "    <tr>\n",
       "      <th>3</th>\n",
       "      <td>277.775461</td>\n",
       "      <td>24.652126</td>\n",
       "    </tr>\n",
       "    <tr>\n",
       "      <th>4</th>\n",
       "      <td>338.114265</td>\n",
       "      <td>47.663683</td>\n",
       "    </tr>\n",
       "    <tr>\n",
       "      <th>5</th>\n",
       "      <td>537.664131</td>\n",
       "      <td>54.208791</td>\n",
       "    </tr>\n",
       "    <tr>\n",
       "      <th>6</th>\n",
       "      <td>710.515983</td>\n",
       "      <td>88.280105</td>\n",
       "    </tr>\n",
       "    <tr>\n",
       "      <th>7</th>\n",
       "      <td>1021.089795</td>\n",
       "      <td>126.361815</td>\n",
       "    </tr>\n",
       "    <tr>\n",
       "      <th>8</th>\n",
       "      <td>1229.109186</td>\n",
       "      <td>124.523716</td>\n",
       "    </tr>\n",
       "    <tr>\n",
       "      <th>9</th>\n",
       "      <td>2263.732568</td>\n",
       "      <td>524.220412</td>\n",
       "    </tr>\n",
       "  </tbody>\n",
       "</table>\n",
       "</div>"
      ],
      "text/plain": [
       "          mean         std\n",
       "0   140.365196   51.153975\n",
       "1   253.262980   46.102784\n",
       "2   220.912289   43.122744\n",
       "3   277.775461   24.652126\n",
       "4   338.114265   47.663683\n",
       "5   537.664131   54.208791\n",
       "6   710.515983   88.280105\n",
       "7  1021.089795  126.361815\n",
       "8  1229.109186  124.523716\n",
       "9  2263.732568  524.220412"
      ]
     },
     "execution_count": 349,
     "metadata": {},
     "output_type": "execute_result"
    }
   ],
   "source": [
    "pd.concat([pd.DataFrame(mean,columns=['mean']),pd.DataFrame(std,columns=['std'])], axis=1)"
   ]
  },
  {
   "cell_type": "code",
   "execution_count": 350,
   "id": "57738320",
   "metadata": {},
   "outputs": [],
   "source": [
    "# both measures are clearly different in each chunk \n",
    "# Assume non-stationary\n",
    "#Need more test"
   ]
  },
  {
   "cell_type": "code",
   "execution_count": 351,
   "id": "85684a96",
   "metadata": {},
   "outputs": [
    {
     "name": "stdout",
     "output_type": "stream",
     "text": [
      "ADF Statistic: 3.414008\n",
      "p-value: 1.000000\n",
      "Critical Values:\n",
      "\t1%: -3.432\n",
      "\t5%: -2.862\n",
      "\t10%: -2.567\n"
     ]
    }
   ],
   "source": [
    "#Augmented Dickey-Fuller\n",
    "result = adfuller(dataset['High'])\n",
    "print('ADF Statistic: %f' % result[0])\n",
    "print('p-value: %f' % result[1])\n",
    "print('Critical Values:')\n",
    "for key, value in result[4].items():\n",
    "    print('\\t%s: %.3f' % (key, value))"
   ]
  },
  {
   "cell_type": "code",
   "execution_count": 352,
   "id": "1b09f642",
   "metadata": {},
   "outputs": [],
   "source": [
    "#The p-value is obtained is greater than significance level \n",
    "#of 0.05 and the ADF statistic is higher than any of \n",
    "#the critical values.\n",
    "#Clearly, there is no reason to reject the null hypothesis.\n",
    "#So, the time series is in fact non-stationary.\n",
    "\n",
    "#Give us information that the prediction will take more time\n",
    "#to train such type\n"
   ]
  },
  {
   "cell_type": "code",
   "execution_count": 353,
   "id": "ed7016e9",
   "metadata": {},
   "outputs": [],
   "source": [
    "#Change dataset\n",
    "new_dataset=dataset['High'].iloc[:-4]"
   ]
  },
  {
   "cell_type": "code",
   "execution_count": 354,
   "id": "fe94d39a",
   "metadata": {},
   "outputs": [
    {
     "data": {
      "text/plain": [
       "3542"
      ]
     },
     "execution_count": 354,
     "metadata": {},
     "output_type": "execute_result"
    }
   ],
   "source": [
    "# Split train 80 and test 20\n",
    "train_len = math.ceil(len(new_dataset)*0.8)\n",
    "train_len"
   ]
  },
  {
   "cell_type": "code",
   "execution_count": 355,
   "id": "201aaf12",
   "metadata": {},
   "outputs": [],
   "source": [
    "# random steps \n",
    "step=10\n",
    "train_data = new_dataset[0:train_len]\n",
    "\n",
    "X_train=[]\n",
    "Y_train=[]\n",
    "\n",
    "for i in range(step, len(train_data)):\n",
    "    X_train.append(train_data[i-step:i])\n",
    "    Y_train.append(train_data[i])\n",
    "X_train, Y_train= np.array(X_train), np.array(Y_train)"
   ]
  },
  {
   "cell_type": "code",
   "execution_count": 356,
   "id": "a94c7658",
   "metadata": {},
   "outputs": [
    {
     "data": {
      "text/plain": [
       "(3532, 10, 1)"
      ]
     },
     "execution_count": 356,
     "metadata": {},
     "output_type": "execute_result"
    }
   ],
   "source": [
    "#Reshaping train data\n",
    "X_train = np.reshape(X_train, (X_train.shape[0], X_train.shape[1], 1))\n",
    "X_train.shape"
   ]
  },
  {
   "cell_type": "code",
   "execution_count": 357,
   "id": "0bb7b91c",
   "metadata": {},
   "outputs": [
    {
     "data": {
      "text/plain": [
       "array([[[  52.082081],\n",
       "        [  54.594597],\n",
       "        [  56.796799],\n",
       "        ...,\n",
       "        [  52.797798],\n",
       "        [  51.906906],\n",
       "        [  51.536537]],\n",
       "\n",
       "       [[  54.594597],\n",
       "        [  56.796799],\n",
       "        [  55.855858],\n",
       "        ...,\n",
       "        [  51.906906],\n",
       "        [  51.536537],\n",
       "        [  51.236237]],\n",
       "\n",
       "       [[  56.796799],\n",
       "        [  55.855858],\n",
       "        [  54.054054],\n",
       "        ...,\n",
       "        [  51.536537],\n",
       "        [  51.236237],\n",
       "        [  50.920921]],\n",
       "\n",
       "       ...,\n",
       "\n",
       "       [[1237.400024],\n",
       "        [1257.869995],\n",
       "        [1256.560059],\n",
       "        ...,\n",
       "        [1214.869995],\n",
       "        [1198.98999 ],\n",
       "        [1188.550049]],\n",
       "\n",
       "       [[1257.869995],\n",
       "        [1256.560059],\n",
       "        [1267.170044],\n",
       "        ...,\n",
       "        [1198.98999 ],\n",
       "        [1188.550049],\n",
       "        [1186.660034]],\n",
       "\n",
       "       [[1256.560059],\n",
       "        [1267.170044],\n",
       "        [1269.48999 ],\n",
       "        ...,\n",
       "        [1188.550049],\n",
       "        [1186.660034],\n",
       "        [1190.939941]]])"
      ]
     },
     "execution_count": 357,
     "metadata": {},
     "output_type": "execute_result"
    }
   ],
   "source": [
    "X_train"
   ]
  },
  {
   "cell_type": "code",
   "execution_count": 358,
   "id": "fec39b4f",
   "metadata": {},
   "outputs": [
    {
     "name": "stdout",
     "output_type": "stream",
     "text": [
      "Model: \"sequential_93\"\n",
      "_________________________________________________________________\n",
      " Layer (type)                Output Shape              Param #   \n",
      "=================================================================\n",
      " lstm_137 (LSTM)             (None, 50)                10400     \n",
      "                                                                 \n",
      " dense_230 (Dense)           (None, 25)                1275      \n",
      "                                                                 \n",
      " dense_231 (Dense)           (None, 1)                 26        \n",
      "                                                                 \n",
      "=================================================================\n",
      "Total params: 11,701\n",
      "Trainable params: 11,701\n",
      "Non-trainable params: 0\n",
      "_________________________________________________________________\n"
     ]
    },
    {
     "data": {
      "text/plain": [
       "<keras.callbacks.History at 0x7fa5b5b8c760>"
      ]
     },
     "execution_count": 358,
     "metadata": {},
     "output_type": "execute_result"
    }
   ],
   "source": [
    "#Model LSTM\n",
    "model=Sequential()\n",
    "model.add(LSTM(50, activation='relu', input_shape=(X_train.shape[1],1)))\n",
    "model.add(Dense(25))\n",
    "model.add(Dense(1))\n",
    "\n",
    "#Compile LSTM\n",
    "model.compile(loss='mean_squared_error', optimizer='adam')\n",
    "model.summary()\n",
    "model.fit(X_train, Y_train, epochs=10, batch_size=10, verbose=0)"
   ]
  },
  {
   "cell_type": "code",
   "execution_count": 359,
   "id": "972513b3",
   "metadata": {},
   "outputs": [],
   "source": [
    "#Split test data\n",
    "test_data = new_dataset[train_len-steps:]\n",
    "\n",
    "X_test=[]\n",
    "Y_test=[] \n",
    "\n",
    "for i in range(step, len(test_data)):\n",
    "    X_test.append(test_data[i-step:i])\n",
    "    Y_test.append(test_data[i])\n",
    "X_test, Y_test = np.array(X_test), np.array(Y_test)"
   ]
  },
  {
   "cell_type": "code",
   "execution_count": 360,
   "id": "531ec0a8",
   "metadata": {},
   "outputs": [],
   "source": [
    "#Reshaping data test\n",
    "X_test = np.reshape(X_test, (X_test.shape[0], X_test.shape[1],1))"
   ]
  },
  {
   "cell_type": "code",
   "execution_count": 361,
   "id": "171cc2b2",
   "metadata": {},
   "outputs": [
    {
     "data": {
      "text/plain": [
       "((885, 10, 1), (885,))"
      ]
     },
     "execution_count": 361,
     "metadata": {},
     "output_type": "execute_result"
    }
   ],
   "source": [
    "X_test.shape, Y_test.shape"
   ]
  },
  {
   "cell_type": "code",
   "execution_count": 362,
   "id": "50a928d4",
   "metadata": {},
   "outputs": [
    {
     "name": "stdout",
     "output_type": "stream",
     "text": [
      "28/28 [==============================] - 1s 6ms/step\n"
     ]
    }
   ],
   "source": [
    "#Prediction\n",
    "prediction = model.predict(X_test)"
   ]
  },
  {
   "cell_type": "code",
   "execution_count": 363,
   "id": "6cfb6c59",
   "metadata": {},
   "outputs": [
    {
     "data": {
      "text/plain": [
       "(885, 885)"
      ]
     },
     "execution_count": 363,
     "metadata": {},
     "output_type": "execute_result"
    }
   ],
   "source": [
    "#Check if same size\n",
    "len(prediction), len(Y_test)"
   ]
  },
  {
   "cell_type": "code",
   "execution_count": 364,
   "id": "f2b61aa7",
   "metadata": {},
   "outputs": [
    {
     "name": "stdout",
     "output_type": "stream",
     "text": [
      "111/111 [==============================] - 1s 10ms/step\n",
      "28/28 [==============================] - 0s 9ms/step\n",
      "Train RMSE: 16.444426550640642\n",
      "Validation RMSE: 64.18252897907182\n"
     ]
    }
   ],
   "source": [
    "#Metric error\n",
    "\n",
    "lstm_train_pred = model.predict(X_train)\n",
    "lstm_valid_pred = model.predict(X_test)\n",
    "print('Train RMSE:', np.sqrt(mean_squared_error(Y_train, lstm_train_pred)))\n",
    "print('Validation RMSE:', np.sqrt(mean_squared_error(Y_test, lstm_valid_pred)))\n",
    "\n",
    "#Error metric higher in validation then train"
   ]
  },
  {
   "cell_type": "code",
   "execution_count": 365,
   "id": "7c80320c",
   "metadata": {},
   "outputs": [
    {
     "data": {
      "text/html": [
       "<div>\n",
       "<style scoped>\n",
       "    .dataframe tbody tr th:only-of-type {\n",
       "        vertical-align: middle;\n",
       "    }\n",
       "\n",
       "    .dataframe tbody tr th {\n",
       "        vertical-align: top;\n",
       "    }\n",
       "\n",
       "    .dataframe thead th {\n",
       "        text-align: right;\n",
       "    }\n",
       "</style>\n",
       "<table border=\"1\" class=\"dataframe\">\n",
       "  <thead>\n",
       "    <tr style=\"text-align: right;\">\n",
       "      <th></th>\n",
       "      <th>High</th>\n",
       "      <th>Predictions</th>\n",
       "    </tr>\n",
       "    <tr>\n",
       "      <th>Date</th>\n",
       "      <th></th>\n",
       "      <th></th>\n",
       "    </tr>\n",
       "  </thead>\n",
       "  <tbody>\n",
       "    <tr>\n",
       "      <th>2018-09-13</th>\n",
       "      <td>1187.859985</td>\n",
       "      <td>1215.657593</td>\n",
       "    </tr>\n",
       "    <tr>\n",
       "      <th>2018-09-14</th>\n",
       "      <td>1188.000000</td>\n",
       "      <td>1205.873901</td>\n",
       "    </tr>\n",
       "    <tr>\n",
       "      <th>2018-09-17</th>\n",
       "      <td>1181.819946</td>\n",
       "      <td>1194.817749</td>\n",
       "    </tr>\n",
       "    <tr>\n",
       "      <th>2018-09-18</th>\n",
       "      <td>1181.329956</td>\n",
       "      <td>1184.586304</td>\n",
       "    </tr>\n",
       "    <tr>\n",
       "      <th>2018-09-19</th>\n",
       "      <td>1176.270020</td>\n",
       "      <td>1178.716431</td>\n",
       "    </tr>\n",
       "    <tr>\n",
       "      <th>...</th>\n",
       "      <td>...</td>\n",
       "      <td>...</td>\n",
       "    </tr>\n",
       "    <tr>\n",
       "      <th>2022-03-14</th>\n",
       "      <td>2608.179932</td>\n",
       "      <td>2662.260986</td>\n",
       "    </tr>\n",
       "    <tr>\n",
       "      <th>2022-03-15</th>\n",
       "      <td>2597.090088</td>\n",
       "      <td>2643.603027</td>\n",
       "    </tr>\n",
       "    <tr>\n",
       "      <th>2022-03-16</th>\n",
       "      <td>2666.659912</td>\n",
       "      <td>2628.777832</td>\n",
       "    </tr>\n",
       "    <tr>\n",
       "      <th>2022-03-17</th>\n",
       "      <td>2681.610107</td>\n",
       "      <td>2632.371826</td>\n",
       "    </tr>\n",
       "    <tr>\n",
       "      <th>2022-03-18</th>\n",
       "      <td>2724.879883</td>\n",
       "      <td>2624.084229</td>\n",
       "    </tr>\n",
       "  </tbody>\n",
       "</table>\n",
       "<p>885 rows × 2 columns</p>\n",
       "</div>"
      ],
      "text/plain": [
       "                   High  Predictions\n",
       "Date                                \n",
       "2018-09-13  1187.859985  1215.657593\n",
       "2018-09-14  1188.000000  1205.873901\n",
       "2018-09-17  1181.819946  1194.817749\n",
       "2018-09-18  1181.329956  1184.586304\n",
       "2018-09-19  1176.270020  1178.716431\n",
       "...                 ...          ...\n",
       "2022-03-14  2608.179932  2662.260986\n",
       "2022-03-15  2597.090088  2643.603027\n",
       "2022-03-16  2666.659912  2628.777832\n",
       "2022-03-17  2681.610107  2632.371826\n",
       "2022-03-18  2724.879883  2624.084229\n",
       "\n",
       "[885 rows x 2 columns]"
      ]
     },
     "execution_count": 365,
     "metadata": {},
     "output_type": "execute_result"
    }
   ],
   "source": [
    "#Chart prediction and real values\n",
    "valid = pd.DataFrame(new_dataset[train_len:])\n",
    "valid['Predictions']=lstm_valid_pred\n",
    "valid\n"
   ]
  },
  {
   "cell_type": "code",
   "execution_count": 366,
   "id": "10f03719",
   "metadata": {},
   "outputs": [
    {
     "data": {
      "image/png": "[encoded data removed]",
      "text/plain": [
       "<Figure size 640x480 with 1 Axes>"
      ]
     },
     "metadata": {},
     "output_type": "display_data"
    }
   ],
   "source": [
    "#Plot\n",
    "plt.plot(valid[['High','Predictions']])\n",
    "plt.legend(['Validation','Predictions'])\n",
    "plt.show()"
   ]
  },
  {
   "cell_type": "code",
   "execution_count": 367,
   "id": "6b13b627",
   "metadata": {},
   "outputs": [
    {
     "data": {
      "image/png": "[encoded data removed]",
      "text/plain": [
       "<Figure size 1600x800 with 1 Axes>"
      ]
     },
     "metadata": {},
     "output_type": "display_data"
    }
   ],
   "source": [
    "#Plot\n",
    "train = new_dataset[:train_len]\n",
    "valid = pd.DataFrame(new_dataset[train_len:])\n",
    "valid['Predictions']=lstm_valid_pred\n",
    "\n",
    "plt.figure(figsize=(16,8))\n",
    "plt.title('Model LSTM')\n",
    "plt.xlabel('Date')\n",
    "plt.ylabel('Close Price USD')\n",
    "plt.plot(train)\n",
    "plt.plot(valid[['High','Predictions']])\n",
    "plt.legend(['Train','Valide','Predictions'])\n",
    "plt.show()"
   ]
  },
  {
   "cell_type": "code",
   "execution_count": 368,
   "id": "ed18f1e1",
   "metadata": {},
   "outputs": [
    {
     "name": "stdout",
     "output_type": "stream",
     "text": [
      "111/111 [==============================] - 4s 15ms/step\n",
      "28/28 [==============================] - 0s 10ms/step\n",
      "111/111 [==============================] - 1s 4ms/step\n",
      "28/28 [==============================] - 0s 5ms/step\n",
      "111/111 [==============================] - 1s 3ms/step\n",
      "28/28 [==============================] - 0s 4ms/step\n",
      "111/111 [==============================] - 1s 5ms/step\n",
      "28/28 [==============================] - 0s 3ms/step\n",
      "111/111 [==============================] - 1s 3ms/step\n",
      "28/28 [==============================] - 0s 4ms/step\n",
      "111/111 [==============================] - 1s 6ms/step\n",
      "28/28 [==============================] - 0s 3ms/step\n",
      "111/111 [==============================] - 1s 6ms/step\n",
      "28/28 [==============================] - 0s 6ms/step\n"
     ]
    }
   ],
   "source": [
    "#Change steps in order to shift down and reduce error\n",
    "train_error=[]\n",
    "test_error=[]\n",
    "\n",
    "step_number=[5,8,10,15,20,30,40]\n",
    "for i in step_number:\n",
    "    #Train dataset___________________________________________________________________\n",
    "    train_data = new_dataset[0:train_len]\n",
    "\n",
    "    X_train=[]\n",
    "    Y_train=[]\n",
    "\n",
    "    for i in range(step, len(train_data)):\n",
    "        X_train.append(train_data[i-step:i])\n",
    "        Y_train.append(train_data[i])\n",
    "\n",
    "    X_train, Y_train= np.array(X_train), np.array(Y_train)\n",
    "    X_train = np.reshape(X_train, (X_train.shape[0], X_train.shape[1], 1))\n",
    "    #Test dataset___________________________________________________________________\n",
    "    test_data = new_dataset[train_len-step:]\n",
    "\n",
    "    X_test=[]\n",
    "    Y_test=[] \n",
    "\n",
    "    for i in range(step, len(test_data)):\n",
    "        X_test.append(test_data[i-step:i])\n",
    "        Y_test.append(test_data[i])\n",
    "\n",
    "    X_test, Y_test = np.array(X_test), np.array(Y_test)\n",
    "    X_test = np.reshape(X_test, (X_test.shape[0], X_test.shape[1],1))\n",
    "    #LSTM model________________________________________________________________\n",
    "    model=Sequential()\n",
    "    model.add(LSTM(50, activation='relu', input_shape=(X_train.shape[1],1)))\n",
    "    model.add(Dense(25))\n",
    "    model.add(Dense(1))\n",
    "    model.compile(loss='mean_squared_error', optimizer='adam')\n",
    "    model.fit(X_train, Y_train, epochs=10, batch_size=10, verbose=0)\n",
    "    #Accuracy___________________________________________________________________\n",
    "    lstm_train_pred = model.predict(X_train)\n",
    "    lstm_valid_pred = model.predict(X_test)\n",
    "    train_error.append(np.sqrt(mean_squared_error(Y_train, lstm_train_pred)))\n",
    "    test_error.append(np.sqrt(mean_squared_error(Y_test, lstm_valid_pred)))"
   ]
  },
  {
   "cell_type": "code",
   "execution_count": 369,
   "id": "73799cdd",
   "metadata": {},
   "outputs": [
    {
     "data": {
      "text/plain": [
       "[12.102700808486128,\n",
       " 17.406756279369233,\n",
       " 12.396017685255648,\n",
       " 11.499493590953271,\n",
       " 8.973599871781879,\n",
       " 14.57473168868488,\n",
       " 20.577399462818363]"
      ]
     },
     "execution_count": 369,
     "metadata": {},
     "output_type": "execute_result"
    }
   ],
   "source": [
    "train_error"
   ]
  },
  {
   "cell_type": "code",
   "execution_count": 370,
   "id": "d5c78015",
   "metadata": {},
   "outputs": [
    {
     "data": {
      "text/plain": [
       "[47.09727479160606,\n",
       " 64.73862430840597,\n",
       " 45.51390661593006,\n",
       " 45.459329866902394,\n",
       " 37.21412813046154,\n",
       " 52.26180662493075,\n",
       " 75.21316402002438]"
      ]
     },
     "execution_count": 370,
     "metadata": {},
     "output_type": "execute_result"
    }
   ],
   "source": [
    "test_error"
   ]
  },
  {
   "cell_type": "code",
   "execution_count": 371,
   "id": "d1ad3fd4",
   "metadata": {},
   "outputs": [
    {
     "data": {
      "text/html": [
       "<div>\n",
       "<style scoped>\n",
       "    .dataframe tbody tr th:only-of-type {\n",
       "        vertical-align: middle;\n",
       "    }\n",
       "\n",
       "    .dataframe tbody tr th {\n",
       "        vertical-align: top;\n",
       "    }\n",
       "\n",
       "    .dataframe thead th {\n",
       "        text-align: right;\n",
       "    }\n",
       "</style>\n",
       "<table border=\"1\" class=\"dataframe\">\n",
       "  <thead>\n",
       "    <tr style=\"text-align: right;\">\n",
       "      <th></th>\n",
       "      <th>train_error</th>\n",
       "      <th>test_error</th>\n",
       "    </tr>\n",
       "    <tr>\n",
       "      <th>step</th>\n",
       "      <th></th>\n",
       "      <th></th>\n",
       "    </tr>\n",
       "  </thead>\n",
       "  <tbody>\n",
       "    <tr>\n",
       "      <th>5</th>\n",
       "      <td>12.102701</td>\n",
       "      <td>47.097275</td>\n",
       "    </tr>\n",
       "    <tr>\n",
       "      <th>8</th>\n",
       "      <td>17.406756</td>\n",
       "      <td>64.738624</td>\n",
       "    </tr>\n",
       "    <tr>\n",
       "      <th>10</th>\n",
       "      <td>12.396018</td>\n",
       "      <td>45.513907</td>\n",
       "    </tr>\n",
       "    <tr>\n",
       "      <th>15</th>\n",
       "      <td>11.499494</td>\n",
       "      <td>45.459330</td>\n",
       "    </tr>\n",
       "    <tr>\n",
       "      <th>20</th>\n",
       "      <td>8.973600</td>\n",
       "      <td>37.214128</td>\n",
       "    </tr>\n",
       "    <tr>\n",
       "      <th>30</th>\n",
       "      <td>14.574732</td>\n",
       "      <td>52.261807</td>\n",
       "    </tr>\n",
       "    <tr>\n",
       "      <th>40</th>\n",
       "      <td>20.577399</td>\n",
       "      <td>75.213164</td>\n",
       "    </tr>\n",
       "  </tbody>\n",
       "</table>\n",
       "</div>"
      ],
      "text/plain": [
       "      train_error  test_error\n",
       "step                         \n",
       "5       12.102701   47.097275\n",
       "8       17.406756   64.738624\n",
       "10      12.396018   45.513907\n",
       "15      11.499494   45.459330\n",
       "20       8.973600   37.214128\n",
       "30      14.574732   52.261807\n",
       "40      20.577399   75.213164"
      ]
     },
     "execution_count": 371,
     "metadata": {},
     "output_type": "execute_result"
    }
   ],
   "source": [
    "pd.concat([pd.DataFrame(train_error,columns=['train_error']),\n",
    "           pd.DataFrame(test_error,columns=['test_error']),\n",
    "           pd.DataFrame([5,8,10,15,20,30,40],columns=['step'])], axis=1).set_index('step')"
   ]
  },
  {
   "cell_type": "code",
   "execution_count": 373,
   "id": "646eeae3",
   "metadata": {},
   "outputs": [],
   "source": [
    "#lowest errors is for steps 15\n",
    "step=15\n",
    "\n",
    "# Second test\n",
    "#Train dataset\n",
    "train_data = new_dataset[0:train_len]\n",
    "X_train=[]\n",
    "Y_train=[]\n",
    "for i in range(step, len(train_data)):\n",
    "    X_train.append(train_data[i-step:i])\n",
    "    Y_train.append(train_data[i])\n",
    "\n",
    "X_train, Y_train= np.array(X_train), np.array(Y_train)\n",
    "X_train = np.reshape(X_train, (X_train.shape[0], X_train.shape[1], 1))\n",
    "#Test dataset_______________________________________________________________\n",
    "test_data = new_dataset[train_len-step:]\n",
    "X_test=[]\n",
    "Y_test=[] \n",
    "for i in range(step, len(test_data)):\n",
    "    X_test.append(test_data[i-step:i])\n",
    "    Y_test.append(test_data[i])\n",
    "    \n",
    "X_test, Y_test = np.array(X_test), np.array(Y_test)\n",
    "X_test = np.reshape(X_test, (X_test.shape[0], X_test.shape[1],1))"
   ]
  },
  {
   "cell_type": "code",
   "execution_count": 374,
   "id": "62ab7e35",
   "metadata": {},
   "outputs": [
    {
     "name": "stdout",
     "output_type": "stream",
     "text": [
      "Model: \"sequential_101\"\n",
      "_________________________________________________________________\n",
      " Layer (type)                Output Shape              Param #   \n",
      "=================================================================\n",
      " lstm_145 (LSTM)             (None, 15, 50)            10400     \n",
      "                                                                 \n",
      " lstm_146 (LSTM)             (None, 50)                20200     \n",
      "                                                                 \n",
      " dense_246 (Dense)           (None, 100)               5100      \n",
      "                                                                 \n",
      " dense_247 (Dense)           (None, 25)                2525      \n",
      "                                                                 \n",
      " dense_248 (Dense)           (None, 1)                 26        \n",
      "                                                                 \n",
      "=================================================================\n",
      "Total params: 38,251\n",
      "Trainable params: 38,251\n",
      "Non-trainable params: 0\n",
      "_________________________________________________________________\n"
     ]
    },
    {
     "data": {
      "text/plain": [
       "<keras.callbacks.History at 0x7fa5cee943d0>"
      ]
     },
     "execution_count": 374,
     "metadata": {},
     "output_type": "execute_result"
    }
   ],
   "source": [
    "#To increase accuracy we need to increse complexity\n",
    "# adding layers and more LSTM cell\n",
    "# 2 layers and 2 LSTM\n",
    "#take more time to train -- more complex\n",
    "model=Sequential()\n",
    "model.add(LSTM(50,return_sequences=True, activation='relu', input_shape=(X_train.shape[1],1)))\n",
    "model.add(LSTM(50,return_sequences=False,activation='relu'))\n",
    "model.add(Dense(100))\n",
    "model.add(Dense(25))\n",
    "model.add(Dense(1))\n",
    "opt1= tf.keras.optimizers.Adam(learning_rate=0.001,beta_1=0.9,beta_2=0.999)\n",
    "\n",
    "#Compile LSTM\n",
    "model.compile(loss='mean_squared_error', optimizer=opt1)\n",
    "model.summary()\n",
    "model.fit(X_train, Y_train, epochs=100, batch_size=10, verbose=0)"
   ]
  },
  {
   "cell_type": "code",
   "execution_count": 375,
   "id": "8a051312",
   "metadata": {},
   "outputs": [
    {
     "name": "stdout",
     "output_type": "stream",
     "text": [
      "111/111 [==============================] - 1s 7ms/step\n",
      "28/28 [==============================] - 0s 8ms/step\n",
      "Train rmse: 6.836311768565834\n",
      "Validation rmse: 28.630432505336437\n"
     ]
    }
   ],
   "source": [
    "lstm_train_pred = model.predict(X_train)\n",
    "lstm_valid_pred = model.predict(X_test)\n",
    "print('Train rmse:', np.sqrt(mean_squared_error(Y_train, lstm_train_pred)))\n",
    "print('Validation rmse:', np.sqrt(mean_squared_error(Y_test, lstm_valid_pred)))"
   ]
  },
  {
   "cell_type": "code",
   "execution_count": 376,
   "id": "c94e885e",
   "metadata": {},
   "outputs": [],
   "source": [
    "valid = pd.DataFrame(new_dataset[train_len:])\n",
    "valid['Predictions']=lstm_valid_pred"
   ]
  },
  {
   "cell_type": "code",
   "execution_count": 377,
   "id": "1cb7a193",
   "metadata": {},
   "outputs": [
    {
     "data": {
      "image/png": "[encoded data removed]",
      "text/plain": [
       "<Figure size 640x480 with 1 Axes>"
      ]
     },
     "metadata": {},
     "output_type": "display_data"
    }
   ],
   "source": [
    "plt.plot(valid[['High','Predictions']])\n",
    "plt.legend(['Validation','Predictions'])\n",
    "plt.show()\n"
   ]
  },
  {
   "cell_type": "code",
   "execution_count": 378,
   "id": "84169b06",
   "metadata": {},
   "outputs": [
    {
     "name": "stdout",
     "output_type": "stream",
     "text": [
      "111/111 [==============================] - 3s 8ms/step\n",
      "28/28 [==============================] - 0s 9ms/step\n"
     ]
    }
   ],
   "source": [
    "#Regularization with dropout()\n",
    "\n",
    "model=Sequential()\n",
    "model.add(LSTM(50,return_sequences=True, activation='relu', input_shape=(X_train.shape[1],1),recurrent_dropout=0.2))\n",
    "model.add(LSTM(50,return_sequences=False,activation='relu'))\n",
    "model.add(Dense(100))\n",
    "model.add(Dropout(0.2))\n",
    "model.add(Dense(25))\n",
    "model.add(Dense(1))\n",
    "opt1=tf.keras.optimizers.Adam(learning_rate=0.001,beta_1=0.9,beta_2=0.999)\n",
    "model.compile(loss='mean_squared_error', optimizer=opt1)\n",
    "model.fit(X_train, Y_train, epochs=100, batch_size=10,verbose=0)\n",
    "\n",
    "lstm_train_pred = model.predict(X_train)\n",
    "lstm_valid_pred = model.predict(X_test)\n"
   ]
  },
  {
   "cell_type": "code",
   "execution_count": 379,
   "id": "5811f85c",
   "metadata": {},
   "outputs": [
    {
     "name": "stdout",
     "output_type": "stream",
     "text": [
      "Train RMSE: 26.88069719467461\n",
      "Validation RMSE: 99.58721753269002\n"
     ]
    }
   ],
   "source": [
    "print('Train RMSE:', np.sqrt(mean_squared_error(Y_train, lstm_train_pred)))\n",
    "print('Validation RMSE:', np.sqrt(mean_squared_error(Y_test, lstm_valid_pred)))"
   ]
  },
  {
   "cell_type": "code",
   "execution_count": 380,
   "id": "b7184748",
   "metadata": {},
   "outputs": [
    {
     "name": "stdout",
     "output_type": "stream",
     "text": [
      "111/111 [==============================] - 3s 11ms/step\n",
      "28/28 [==============================] - 0s 8ms/step\n"
     ]
    }
   ],
   "source": [
    "#Regularization with dropout()\n",
    "\n",
    "model=Sequential()\n",
    "model.add(LSTM(50,return_sequences=True, activation='relu', input_shape=(X_train.shape[1],1),recurrent_dropout=0.2))\n",
    "model.add(LSTM(50,return_sequences=False,activation='relu'))\n",
    "model.add(Dense(100))\n",
    "model.add(Dropout(0.6))\n",
    "model.add(Dense(25))\n",
    "model.add(Dense(1))\n",
    "opt1=tf.keras.optimizers.Adam(learning_rate=0.001,beta_1=0.9,beta_2=0.999)\n",
    "model.compile(loss='mean_squared_error', optimizer=opt1)\n",
    "model.fit(X_train, Y_train, epochs=100, batch_size=10,verbose=0)\n",
    "\n",
    "lstm_train_pred = model.predict(X_train)\n",
    "lstm_valid_pred = model.predict(X_test)"
   ]
  },
  {
   "cell_type": "code",
   "execution_count": 381,
   "id": "d4effeb3",
   "metadata": {},
   "outputs": [
    {
     "name": "stdout",
     "output_type": "stream",
     "text": [
      "Train RMSE: 18.36640235273831\n",
      "Validation RMSE: 92.51500479267924\n"
     ]
    }
   ],
   "source": [
    "print('Train RMSE:', np.sqrt(mean_squared_error(Y_train, lstm_train_pred)))\n",
    "print('Validation RMSE:', np.sqrt(mean_squared_error(Y_test, lstm_valid_pred)))"
   ]
  },
  {
   "cell_type": "code",
   "execution_count": 382,
   "id": "9c329ef2",
   "metadata": {},
   "outputs": [
    {
     "name": "stdout",
     "output_type": "stream",
     "text": [
      "111/111 [==============================] - 1s 7ms/step\n",
      "28/28 [==============================] - 0s 6ms/step\n"
     ]
    }
   ],
   "source": [
    "#Change of optimizer \n",
    "\n",
    "model=Sequential()\n",
    "model.add(LSTM(50,return_sequences=True, activation='relu', input_shape=(X_train.shape[1],1),recurrent_dropout=0.2))\n",
    "model.add(LSTM(50,return_sequences=False,activation='relu'))\n",
    "model.add(Dense(100))\n",
    "model.add(Dropout(0.6))\n",
    "model.add(Dense(25))\n",
    "model.add(Dense(1))\n",
    "model.compile(loss='mean_squared_error', optimizer='Adadelta')\n",
    "model.fit(X_train, Y_train, epochs=100, batch_size=10,verbose=0)\n",
    "\n",
    "lstm_train_pred = model.predict(X_train)\n",
    "lstm_valid_pred = model.predict(X_test)"
   ]
  },
  {
   "cell_type": "code",
   "execution_count": 383,
   "id": "0bd63414",
   "metadata": {},
   "outputs": [
    {
     "name": "stdout",
     "output_type": "stream",
     "text": [
      "Train RMSE: 278.6103772537747\n",
      "Validation RMSE: 944.9115216585708\n"
     ]
    }
   ],
   "source": [
    "print('Train RMSE:', np.sqrt(mean_squared_error(Y_train, lstm_train_pred)))\n",
    "print('Validation RMSE:', np.sqrt(mean_squared_error(Y_test, lstm_valid_pred)))"
   ]
  },
  {
   "cell_type": "code",
   "execution_count": 384,
   "id": "1a507275",
   "metadata": {},
   "outputs": [
    {
     "name": "stdout",
     "output_type": "stream",
     "text": [
      "111/111 [==============================] - 1s 7ms/step\n",
      "28/28 [==============================] - 0s 6ms/step\n"
     ]
    }
   ],
   "source": [
    "#Change of optimizer \n",
    "\n",
    "model=Sequential()\n",
    "model.add(LSTM(50,return_sequences=True, activation='relu', input_shape=(X_train.shape[1],1),recurrent_dropout=0.2))\n",
    "model.add(LSTM(50,return_sequences=False,activation='relu'))\n",
    "model.add(Dense(100))\n",
    "model.add(Dropout(0.6))\n",
    "model.add(Dense(25))\n",
    "model.add(Dense(1))\n",
    "model.compile(loss='mean_squared_error', optimizer='RMSProp')\n",
    "model.fit(X_train, Y_train, epochs=100, batch_size=10,verbose=0)\n",
    "\n",
    "lstm_train_pred = model.predict(X_train)\n",
    "lstm_valid_pred = model.predict(X_test)"
   ]
  },
  {
   "cell_type": "code",
   "execution_count": 385,
   "id": "4ffd8a8a",
   "metadata": {},
   "outputs": [
    {
     "name": "stdout",
     "output_type": "stream",
     "text": [
      "Train RMSE: 36.986111676882906\n",
      "Validation RMSE: 137.92392725331754\n"
     ]
    }
   ],
   "source": [
    "print('Train RMSE:', np.sqrt(mean_squared_error(Y_train, lstm_train_pred)))\n",
    "print('Validation RMSE:', np.sqrt(mean_squared_error(Y_test, lstm_valid_pred)))"
   ]
  },
  {
   "cell_type": "code",
   "execution_count": 388,
   "id": "c77bc065",
   "metadata": {},
   "outputs": [
    {
     "name": "stdout",
     "output_type": "stream",
     "text": [
      "111/111 [==============================] - 1s 7ms/step\n",
      "28/28 [==============================] - 0s 9ms/step\n"
     ]
    }
   ],
   "source": [
    "#Change of optimizer \n",
    "\n",
    "model=Sequential()\n",
    "model.add(LSTM(50,return_sequences=True, activation='relu', input_shape=(X_train.shape[1],1),recurrent_dropout=0.2))\n",
    "model.add(LSTM(50,return_sequences=False,activation='relu'))\n",
    "model.add(Dense(100))\n",
    "model.add(Dropout(0.6))\n",
    "model.add(Dense(25))\n",
    "model.add(Dense(1))\n",
    "model.compile(loss='mean_squared_error', optimizer='Adamax')\n",
    "model.fit(X_train, Y_train, epochs=100, batch_size=10,verbose=0)\n",
    "\n",
    "lstm_train_pred = model.predict(X_train)\n",
    "lstm_valid_pred = model.predict(X_test)"
   ]
  },
  {
   "cell_type": "code",
   "execution_count": 389,
   "id": "c0e6feef",
   "metadata": {},
   "outputs": [
    {
     "name": "stdout",
     "output_type": "stream",
     "text": [
      "Train RMSE: 22.227272720781\n",
      "Validation RMSE: 88.80863207706845\n"
     ]
    }
   ],
   "source": [
    "print('Train RMSE:', np.sqrt(mean_squared_error(Y_train, lstm_train_pred)))\n",
    "print('Validation RMSE:', np.sqrt(mean_squared_error(Y_test, lstm_valid_pred)))"
   ]
  },
  {
   "cell_type": "code",
   "execution_count": 390,
   "id": "8973ff2f",
   "metadata": {},
   "outputs": [],
   "source": [
    "#the overfitting was not the problem"
   ]
  },
  {
   "cell_type": "code",
   "execution_count": 391,
   "id": "3d7b4056",
   "metadata": {},
   "outputs": [
    {
     "name": "stdout",
     "output_type": "stream",
     "text": [
      "111/111 [==============================] - 1s 4ms/step\n",
      "28/28 [==============================] - 0s 3ms/step\n",
      "111/111 [==============================] - 1s 6ms/step\n",
      "28/28 [==============================] - 0s 5ms/step\n",
      "111/111 [==============================] - 2s 7ms/step\n",
      "28/28 [==============================] - 0s 7ms/step\n",
      "111/111 [==============================] - 1s 4ms/step\n",
      "28/28 [==============================] - 0s 4ms/step\n",
      "111/111 [==============================] - 1s 3ms/step\n",
      "28/28 [==============================] - 0s 3ms/step\n",
      "111/111 [==============================] - 1s 4ms/step\n",
      "28/28 [==============================] - 0s 5ms/step\n",
      "111/111 [==============================] - 1s 4ms/step\n",
      "28/28 [==============================] - 0s 3ms/step\n",
      "111/111 [==============================] - 1s 5ms/step\n",
      "28/28 [==============================] - 0s 3ms/step\n",
      "111/111 [==============================] - 1s 4ms/step\n",
      "28/28 [==============================] - 0s 3ms/step\n",
      "111/111 [==============================] - 1s 5ms/step\n",
      "28/28 [==============================] - 0s 4ms/step\n"
     ]
    }
   ],
   "source": [
    "#Change the model to RNN\n",
    "r1=[]\n",
    "r2=[]\n",
    "\n",
    "for i in range(0,10):\n",
    "    model=Sequential()\n",
    "    model.add(SimpleRNN(50,return_sequences=True, activation='relu', input_shape=(X_train.shape[1],1)))\n",
    "    model.add(SimpleRNN(50,return_sequences=False,activation='relu'))\n",
    "    model.add(Dense(100))\n",
    "    model.add(Dense(25))\n",
    "    model.add(Dense(1))\n",
    "    opt1=Adam(learning_rate=0.001,beta_1=0.9,beta_2=0.999)\n",
    "    model.compile(loss='mean_squared_error', optimizer=opt1)\n",
    "    model.fit(X_train, Y_train, epochs=100, batch_size=10,verbose=0)\n",
    "\n",
    "    lstm_train_pred = model.predict(X_train)\n",
    "    lstm_valid_pred = model.predict(X_test)\n",
    "    r1.append(np.round(np.sqrt(mean_squared_error(Y_train, lstm_train_pred)),2))\n",
    "    r2.append(np.round(np.sqrt(mean_squared_error(Y_test, lstm_valid_pred)),2))"
   ]
  },
  {
   "cell_type": "code",
   "execution_count": 392,
   "id": "fe4239e4",
   "metadata": {},
   "outputs": [
    {
     "data": {
      "text/plain": [
       "([7.03, 7.92, 9.7, 6.84, 8.66, 7.26, 10.62, 7.63, 13.9, 6.85],\n",
       " 8.641,\n",
       " 2.2408106172147217)"
      ]
     },
     "execution_count": 392,
     "metadata": {},
     "output_type": "execute_result"
    }
   ],
   "source": [
    "r1, statistics.mean(r1), statistics.stdev(r1)"
   ]
  },
  {
   "cell_type": "code",
   "execution_count": 393,
   "id": "b6c04fef",
   "metadata": {},
   "outputs": [
    {
     "data": {
      "text/plain": [
       "([29.38, 32.08, 37.37, 29.21, 34.07, 30.0, 41.57, 30.98, 51.25, 29.17],\n",
       " 34.508,\n",
       " 7.149768916234675)"
      ]
     },
     "execution_count": 393,
     "metadata": {},
     "output_type": "execute_result"
    }
   ],
   "source": [
    "r2, statistics.mean(r2), statistics.stdev(r2)"
   ]
  },
  {
   "cell_type": "code",
   "execution_count": 394,
   "id": "dd3b2ce5",
   "metadata": {},
   "outputs": [
    {
     "data": {
      "text/html": [
       "<div>\n",
       "<style scoped>\n",
       "    .dataframe tbody tr th:only-of-type {\n",
       "        vertical-align: middle;\n",
       "    }\n",
       "\n",
       "    .dataframe tbody tr th {\n",
       "        vertical-align: top;\n",
       "    }\n",
       "\n",
       "    .dataframe thead th {\n",
       "        text-align: right;\n",
       "    }\n",
       "</style>\n",
       "<table border=\"1\" class=\"dataframe\">\n",
       "  <thead>\n",
       "    <tr style=\"text-align: right;\">\n",
       "      <th></th>\n",
       "      <th>High</th>\n",
       "      <th>Predictions</th>\n",
       "    </tr>\n",
       "    <tr>\n",
       "      <th>Date</th>\n",
       "      <th></th>\n",
       "      <th></th>\n",
       "    </tr>\n",
       "  </thead>\n",
       "  <tbody>\n",
       "    <tr>\n",
       "      <th>2018-09-13</th>\n",
       "      <td>1187.859985</td>\n",
       "      <td>1188.939209</td>\n",
       "    </tr>\n",
       "    <tr>\n",
       "      <th>2018-09-14</th>\n",
       "      <td>1188.000000</td>\n",
       "      <td>1185.598389</td>\n",
       "    </tr>\n",
       "    <tr>\n",
       "      <th>2018-09-17</th>\n",
       "      <td>1181.819946</td>\n",
       "      <td>1186.142212</td>\n",
       "    </tr>\n",
       "    <tr>\n",
       "      <th>2018-09-18</th>\n",
       "      <td>1181.329956</td>\n",
       "      <td>1178.839355</td>\n",
       "    </tr>\n",
       "    <tr>\n",
       "      <th>2018-09-19</th>\n",
       "      <td>1176.270020</td>\n",
       "      <td>1179.376099</td>\n",
       "    </tr>\n",
       "    <tr>\n",
       "      <th>...</th>\n",
       "      <td>...</td>\n",
       "      <td>...</td>\n",
       "    </tr>\n",
       "    <tr>\n",
       "      <th>2022-03-14</th>\n",
       "      <td>2608.179932</td>\n",
       "      <td>2674.368164</td>\n",
       "    </tr>\n",
       "    <tr>\n",
       "      <th>2022-03-15</th>\n",
       "      <td>2597.090088</td>\n",
       "      <td>2590.703613</td>\n",
       "    </tr>\n",
       "    <tr>\n",
       "      <th>2022-03-16</th>\n",
       "      <td>2666.659912</td>\n",
       "      <td>2590.258789</td>\n",
       "    </tr>\n",
       "    <tr>\n",
       "      <th>2022-03-17</th>\n",
       "      <td>2681.610107</td>\n",
       "      <td>2674.146240</td>\n",
       "    </tr>\n",
       "    <tr>\n",
       "      <th>2022-03-18</th>\n",
       "      <td>2724.879883</td>\n",
       "      <td>2681.942383</td>\n",
       "    </tr>\n",
       "  </tbody>\n",
       "</table>\n",
       "<p>885 rows × 2 columns</p>\n",
       "</div>"
      ],
      "text/plain": [
       "                   High  Predictions\n",
       "Date                                \n",
       "2018-09-13  1187.859985  1188.939209\n",
       "2018-09-14  1188.000000  1185.598389\n",
       "2018-09-17  1181.819946  1186.142212\n",
       "2018-09-18  1181.329956  1178.839355\n",
       "2018-09-19  1176.270020  1179.376099\n",
       "...                 ...          ...\n",
       "2022-03-14  2608.179932  2674.368164\n",
       "2022-03-15  2597.090088  2590.703613\n",
       "2022-03-16  2666.659912  2590.258789\n",
       "2022-03-17  2681.610107  2674.146240\n",
       "2022-03-18  2724.879883  2681.942383\n",
       "\n",
       "[885 rows x 2 columns]"
      ]
     },
     "execution_count": 394,
     "metadata": {},
     "output_type": "execute_result"
    }
   ],
   "source": [
    "valid = pd.DataFrame(new_dataset[train_len:])\n",
    "valid['Predictions']=lstm_valid_pred\n",
    "valid"
   ]
  },
  {
   "cell_type": "code",
   "execution_count": 395,
   "id": "672bd567",
   "metadata": {},
   "outputs": [
    {
     "data": {
      "image/png": "[encoded data removed]",
      "text/plain": [
       "<Figure size 640x480 with 1 Axes>"
      ]
     },
     "metadata": {},
     "output_type": "display_data"
    }
   ],
   "source": [
    "plt.plot(valid[['High','Predictions']])\n",
    "plt.legend(['Validation','Predictions'])\n",
    "plt.show()"
   ]
  },
  {
   "cell_type": "code",
   "execution_count": null,
   "id": "ea03c87b",
   "metadata": {},
   "outputs": [],
   "source": []
  }
 ],
 "metadata": {
  "kernelspec": {
   "display_name": "Python 3 (ipykernel)",
   "language": "python",
   "name": "python3"
  },
  "language_info": {
   "codemirror_mode": {
    "name": "ipython",
    "version": 3
   },
   "file_extension": ".py",
   "mimetype": "text/x-python",
   "name": "python",
   "nbconvert_exporter": "python",
   "pygments_lexer": "ipython3",
   "version": "3.9.13"
  }
 },
 "nbformat": 4,
 "nbformat_minor": 5
}
