{
 "cells": [
  {
   "cell_type": "code",
   "execution_count": 3,
   "id": "8d1793df",
   "metadata": {},
   "outputs": [
    {
     "name": "stderr",
     "output_type": "stream",
     "text": [
      "2022-12-06 23:58:30.206142: I tensorflow/core/platform/cpu_feature_guard.cc:193] This TensorFlow binary is optimized with oneAPI Deep Neural Network Library (oneDNN) to use the following CPU instructions in performance-critical operations:  AVX2 FMA\n",
      "To enable them in other operations, rebuild TensorFlow with the appropriate compiler flags.\n"
     ]
    }
   ],
   "source": [
    "#Importing Libraries\n",
    "import numpy as np\n",
    "import pandas as pd\n",
    "import matplotlib.pyplot as plt\n",
    "import tensorflow as tf\n",
    "import datetime as dt\n",
    "from keras import Sequential\n",
    "from keras.layers import Dense, Activation\n",
    "from tensorflow.keras.models import Sequential\n",
    "import math\n",
    "from keras.layers import SimpleRNN\n",
    "from statistics import stdev\n",
    "from statsmodels.tsa.stattools import adfuller\n",
    "from sklearn.metrics import mean_squared_error\n",
    "\n",
    "%matplotlib inline"
   ]
  },
  {
   "cell_type": "code",
   "execution_count": 4,
   "id": "c09b8de8",
   "metadata": {},
   "outputs": [
    {
     "data": {
      "text/html": [
       "<div>\n",
       "<style scoped>\n",
       "    .dataframe tbody tr th:only-of-type {\n",
       "        vertical-align: middle;\n",
       "    }\n",
       "\n",
       "    .dataframe tbody tr th {\n",
       "        vertical-align: top;\n",
       "    }\n",
       "\n",
       "    .dataframe thead th {\n",
       "        text-align: right;\n",
       "    }\n",
       "</style>\n",
       "<table border=\"1\" class=\"dataframe\">\n",
       "  <thead>\n",
       "    <tr style=\"text-align: right;\">\n",
       "      <th></th>\n",
       "      <th>Date</th>\n",
       "      <th>Open</th>\n",
       "      <th>High</th>\n",
       "      <th>Low</th>\n",
       "      <th>Close</th>\n",
       "      <th>Adj Close</th>\n",
       "      <th>Volume</th>\n",
       "    </tr>\n",
       "  </thead>\n",
       "  <tbody>\n",
       "    <tr>\n",
       "      <th>0</th>\n",
       "      <td>2004-08-19</td>\n",
       "      <td>50.050049</td>\n",
       "      <td>52.082081</td>\n",
       "      <td>48.028027</td>\n",
       "      <td>50.220219</td>\n",
       "      <td>50.220219</td>\n",
       "      <td>44659096</td>\n",
       "    </tr>\n",
       "    <tr>\n",
       "      <th>1</th>\n",
       "      <td>2004-08-20</td>\n",
       "      <td>50.555557</td>\n",
       "      <td>54.594597</td>\n",
       "      <td>50.300301</td>\n",
       "      <td>54.209209</td>\n",
       "      <td>54.209209</td>\n",
       "      <td>22834343</td>\n",
       "    </tr>\n",
       "    <tr>\n",
       "      <th>2</th>\n",
       "      <td>2004-08-23</td>\n",
       "      <td>55.430431</td>\n",
       "      <td>56.796799</td>\n",
       "      <td>54.579578</td>\n",
       "      <td>54.754753</td>\n",
       "      <td>54.754753</td>\n",
       "      <td>18256126</td>\n",
       "    </tr>\n",
       "    <tr>\n",
       "      <th>3</th>\n",
       "      <td>2004-08-24</td>\n",
       "      <td>55.675674</td>\n",
       "      <td>55.855858</td>\n",
       "      <td>51.836838</td>\n",
       "      <td>52.487488</td>\n",
       "      <td>52.487488</td>\n",
       "      <td>15247337</td>\n",
       "    </tr>\n",
       "    <tr>\n",
       "      <th>4</th>\n",
       "      <td>2004-08-25</td>\n",
       "      <td>52.532532</td>\n",
       "      <td>54.054054</td>\n",
       "      <td>51.991993</td>\n",
       "      <td>53.053055</td>\n",
       "      <td>53.053055</td>\n",
       "      <td>9188602</td>\n",
       "    </tr>\n",
       "  </tbody>\n",
       "</table>\n",
       "</div>"
      ],
      "text/plain": [
       "         Date       Open       High        Low      Close  Adj Close    Volume\n",
       "0  2004-08-19  50.050049  52.082081  48.028027  50.220219  50.220219  44659096\n",
       "1  2004-08-20  50.555557  54.594597  50.300301  54.209209  54.209209  22834343\n",
       "2  2004-08-23  55.430431  56.796799  54.579578  54.754753  54.754753  18256126\n",
       "3  2004-08-24  55.675674  55.855858  51.836838  52.487488  52.487488  15247337\n",
       "4  2004-08-25  52.532532  54.054054  51.991993  53.053055  53.053055   9188602"
      ]
     },
     "execution_count": 4,
     "metadata": {},
     "output_type": "execute_result"
    }
   ],
   "source": [
    "#Open the dataset \n",
    "dataset = pd.read_csv('Desktop/GOOGL.csv')\n",
    "dataset.head()"
   ]
  },
  {
   "cell_type": "code",
   "execution_count": 5,
   "id": "503af43e",
   "metadata": {},
   "outputs": [
    {
     "data": {
      "text/plain": [
       "(4431, 7)"
      ]
     },
     "execution_count": 5,
     "metadata": {},
     "output_type": "execute_result"
    }
   ],
   "source": [
    "#Examine data\n",
    "dataset.shape"
   ]
  },
  {
   "cell_type": "code",
   "execution_count": 6,
   "id": "ab227f98",
   "metadata": {},
   "outputs": [
    {
     "name": "stdout",
     "output_type": "stream",
     "text": [
      "<class 'pandas.core.frame.DataFrame'>\n",
      "RangeIndex: 4431 entries, 0 to 4430\n",
      "Data columns (total 7 columns):\n",
      " #   Column     Non-Null Count  Dtype  \n",
      "---  ------     --------------  -----  \n",
      " 0   Date       4431 non-null   object \n",
      " 1   Open       4431 non-null   float64\n",
      " 2   High       4431 non-null   float64\n",
      " 3   Low        4431 non-null   float64\n",
      " 4   Close      4431 non-null   float64\n",
      " 5   Adj Close  4431 non-null   float64\n",
      " 6   Volume     4431 non-null   int64  \n",
      "dtypes: float64(5), int64(1), object(1)\n",
      "memory usage: 242.4+ KB\n"
     ]
    }
   ],
   "source": [
    "dataset.info()"
   ]
  },
  {
   "cell_type": "code",
   "execution_count": 7,
   "id": "05e97fbc",
   "metadata": {
    "scrolled": true
   },
   "outputs": [
    {
     "data": {
      "text/plain": [
       "Date          object\n",
       "Open         float64\n",
       "High         float64\n",
       "Low          float64\n",
       "Close        float64\n",
       "Adj Close    float64\n",
       "Volume         int64\n",
       "dtype: object"
      ]
     },
     "execution_count": 7,
     "metadata": {},
     "output_type": "execute_result"
    }
   ],
   "source": [
    "dataset.dtypes"
   ]
  },
  {
   "cell_type": "code",
   "execution_count": 8,
   "id": "96e4a85e",
   "metadata": {},
   "outputs": [
    {
     "data": {
      "text/plain": [
       "Date         0\n",
       "Open         0\n",
       "High         0\n",
       "Low          0\n",
       "Close        0\n",
       "Adj Close    0\n",
       "Volume       0\n",
       "dtype: int64"
      ]
     },
     "execution_count": 8,
     "metadata": {},
     "output_type": "execute_result"
    }
   ],
   "source": [
    "#Check if data missing\n",
    "dataset.isnull().sum()"
   ]
  },
  {
   "cell_type": "code",
   "execution_count": 9,
   "id": "d2c368e3",
   "metadata": {},
   "outputs": [],
   "source": [
    "#Change type of date to datetime type \n",
    "dataset.Date=pd.to_datetime(dataset['Date'])"
   ]
  },
  {
   "cell_type": "code",
   "execution_count": 10,
   "id": "0aa91bd3",
   "metadata": {},
   "outputs": [
    {
     "data": {
      "text/plain": [
       "Date         datetime64[ns]\n",
       "Open                float64\n",
       "High                float64\n",
       "Low                 float64\n",
       "Close               float64\n",
       "Adj Close           float64\n",
       "Volume                int64\n",
       "dtype: object"
      ]
     },
     "execution_count": 10,
     "metadata": {},
     "output_type": "execute_result"
    }
   ],
   "source": [
    "dataset.dtypes"
   ]
  },
  {
   "cell_type": "code",
   "execution_count": 11,
   "id": "f24fb3ec",
   "metadata": {},
   "outputs": [
    {
     "data": {
      "text/plain": [
       "Timedelta('6426 days 00:00:00')"
      ]
     },
     "execution_count": 11,
     "metadata": {},
     "output_type": "execute_result"
    }
   ],
   "source": [
    "#Analyse date data\n",
    "dataset.Date.min(),dataset.Date.max()\n",
    "dataset.Date.max()-dataset.Date.min()"
   ]
  },
  {
   "cell_type": "code",
   "execution_count": 12,
   "id": "ebbf86e2",
   "metadata": {
    "scrolled": true
   },
   "outputs": [
    {
     "data": {
      "text/html": [
       "<div>\n",
       "<style scoped>\n",
       "    .dataframe tbody tr th:only-of-type {\n",
       "        vertical-align: middle;\n",
       "    }\n",
       "\n",
       "    .dataframe tbody tr th {\n",
       "        vertical-align: top;\n",
       "    }\n",
       "\n",
       "    .dataframe thead th {\n",
       "        text-align: right;\n",
       "    }\n",
       "</style>\n",
       "<table border=\"1\" class=\"dataframe\">\n",
       "  <thead>\n",
       "    <tr style=\"text-align: right;\">\n",
       "      <th></th>\n",
       "      <th>Open</th>\n",
       "      <th>High</th>\n",
       "      <th>Low</th>\n",
       "      <th>Close</th>\n",
       "      <th>Adj Close</th>\n",
       "      <th>Volume</th>\n",
       "    </tr>\n",
       "    <tr>\n",
       "      <th>Date</th>\n",
       "      <th></th>\n",
       "      <th></th>\n",
       "      <th></th>\n",
       "      <th></th>\n",
       "      <th></th>\n",
       "      <th></th>\n",
       "    </tr>\n",
       "  </thead>\n",
       "  <tbody>\n",
       "    <tr>\n",
       "      <th>2004-08-19</th>\n",
       "      <td>50.050049</td>\n",
       "      <td>52.082081</td>\n",
       "      <td>48.028027</td>\n",
       "      <td>50.220219</td>\n",
       "      <td>50.220219</td>\n",
       "      <td>44659096</td>\n",
       "    </tr>\n",
       "    <tr>\n",
       "      <th>2004-08-20</th>\n",
       "      <td>50.555557</td>\n",
       "      <td>54.594597</td>\n",
       "      <td>50.300301</td>\n",
       "      <td>54.209209</td>\n",
       "      <td>54.209209</td>\n",
       "      <td>22834343</td>\n",
       "    </tr>\n",
       "    <tr>\n",
       "      <th>2004-08-23</th>\n",
       "      <td>55.430431</td>\n",
       "      <td>56.796799</td>\n",
       "      <td>54.579578</td>\n",
       "      <td>54.754753</td>\n",
       "      <td>54.754753</td>\n",
       "      <td>18256126</td>\n",
       "    </tr>\n",
       "    <tr>\n",
       "      <th>2004-08-24</th>\n",
       "      <td>55.675674</td>\n",
       "      <td>55.855858</td>\n",
       "      <td>51.836838</td>\n",
       "      <td>52.487488</td>\n",
       "      <td>52.487488</td>\n",
       "      <td>15247337</td>\n",
       "    </tr>\n",
       "    <tr>\n",
       "      <th>2004-08-25</th>\n",
       "      <td>52.532532</td>\n",
       "      <td>54.054054</td>\n",
       "      <td>51.991993</td>\n",
       "      <td>53.053055</td>\n",
       "      <td>53.053055</td>\n",
       "      <td>9188602</td>\n",
       "    </tr>\n",
       "    <tr>\n",
       "      <th>...</th>\n",
       "      <td>...</td>\n",
       "      <td>...</td>\n",
       "      <td>...</td>\n",
       "      <td>...</td>\n",
       "      <td>...</td>\n",
       "      <td>...</td>\n",
       "    </tr>\n",
       "    <tr>\n",
       "      <th>2022-03-18</th>\n",
       "      <td>2668.489990</td>\n",
       "      <td>2724.879883</td>\n",
       "      <td>2645.169922</td>\n",
       "      <td>2722.510010</td>\n",
       "      <td>2722.510010</td>\n",
       "      <td>2223100</td>\n",
       "    </tr>\n",
       "    <tr>\n",
       "      <th>2022-03-21</th>\n",
       "      <td>2723.270020</td>\n",
       "      <td>2741.000000</td>\n",
       "      <td>2681.850098</td>\n",
       "      <td>2722.030029</td>\n",
       "      <td>2722.030029</td>\n",
       "      <td>1341600</td>\n",
       "    </tr>\n",
       "    <tr>\n",
       "      <th>2022-03-22</th>\n",
       "      <td>2722.030029</td>\n",
       "      <td>2821.000000</td>\n",
       "      <td>2722.030029</td>\n",
       "      <td>2797.360107</td>\n",
       "      <td>2797.360107</td>\n",
       "      <td>1774800</td>\n",
       "    </tr>\n",
       "    <tr>\n",
       "      <th>2022-03-23</th>\n",
       "      <td>2774.050049</td>\n",
       "      <td>2791.770020</td>\n",
       "      <td>2756.699951</td>\n",
       "      <td>2765.510010</td>\n",
       "      <td>2765.510010</td>\n",
       "      <td>1257700</td>\n",
       "    </tr>\n",
       "    <tr>\n",
       "      <th>2022-03-24</th>\n",
       "      <td>2784.000000</td>\n",
       "      <td>2832.379883</td>\n",
       "      <td>2755.010010</td>\n",
       "      <td>2831.439941</td>\n",
       "      <td>2831.439941</td>\n",
       "      <td>1317900</td>\n",
       "    </tr>\n",
       "  </tbody>\n",
       "</table>\n",
       "<p>4431 rows × 6 columns</p>\n",
       "</div>"
      ],
      "text/plain": [
       "                   Open         High          Low        Close    Adj Close  \\\n",
       "Date                                                                          \n",
       "2004-08-19    50.050049    52.082081    48.028027    50.220219    50.220219   \n",
       "2004-08-20    50.555557    54.594597    50.300301    54.209209    54.209209   \n",
       "2004-08-23    55.430431    56.796799    54.579578    54.754753    54.754753   \n",
       "2004-08-24    55.675674    55.855858    51.836838    52.487488    52.487488   \n",
       "2004-08-25    52.532532    54.054054    51.991993    53.053055    53.053055   \n",
       "...                 ...          ...          ...          ...          ...   \n",
       "2022-03-18  2668.489990  2724.879883  2645.169922  2722.510010  2722.510010   \n",
       "2022-03-21  2723.270020  2741.000000  2681.850098  2722.030029  2722.030029   \n",
       "2022-03-22  2722.030029  2821.000000  2722.030029  2797.360107  2797.360107   \n",
       "2022-03-23  2774.050049  2791.770020  2756.699951  2765.510010  2765.510010   \n",
       "2022-03-24  2784.000000  2832.379883  2755.010010  2831.439941  2831.439941   \n",
       "\n",
       "              Volume  \n",
       "Date                  \n",
       "2004-08-19  44659096  \n",
       "2004-08-20  22834343  \n",
       "2004-08-23  18256126  \n",
       "2004-08-24  15247337  \n",
       "2004-08-25   9188602  \n",
       "...              ...  \n",
       "2022-03-18   2223100  \n",
       "2022-03-21   1341600  \n",
       "2022-03-22   1774800  \n",
       "2022-03-23   1257700  \n",
       "2022-03-24   1317900  \n",
       "\n",
       "[4431 rows x 6 columns]"
      ]
     },
     "execution_count": 12,
     "metadata": {},
     "output_type": "execute_result"
    }
   ],
   "source": [
    "#Create column for date to use in graph\n",
    "dataset.set_index('Date',inplace=True)\n",
    "dataset"
   ]
  },
  {
   "cell_type": "code",
   "execution_count": 13,
   "id": "c2b970c8",
   "metadata": {},
   "outputs": [
    {
     "data": {
      "text/plain": [
       "443.0"
      ]
     },
     "execution_count": 13,
     "metadata": {},
     "output_type": "execute_result"
    }
   ],
   "source": [
    "#Start test for stationary data\n",
    "#Strat by splitting data into chunks\n",
    "np.round(dataset.shape[0]/10,0)"
   ]
  },
  {
   "cell_type": "code",
   "execution_count": 14,
   "id": "4d09c622",
   "metadata": {},
   "outputs": [],
   "source": [
    "def stationaryTest1(dataset):\n",
    "    split = np.round(dataset.shape[0]/10,0)\n",
    "    #Statistics for each chunks to find if large deviation in \n",
    "    #mean or variance -- data is probably not stationary\n",
    "    mean=[]\n",
    "    std=[]\n",
    "\n",
    "    for i in range(0,10):\n",
    "        mean.append(dataset['High'].iloc[(i*443):(i*443)+443].mean())\n",
    "        std.append(stdev(dataset['High'].iloc[(i*443):(i*443)+443]))\n",
    "    #Chart of mean and std\n",
    "    return(pd.concat([pd.DataFrame(mean,columns=['mean']),pd.DataFrame(std,columns=['std'])], axis=1))\n",
    "def stationaryTest2(dataset):\n",
    "    #Since clearly different in each chunk\n",
    "    #Assume non stationary\n",
    "\n",
    "    #Need more test\n",
    "    #Augmented Dickey-Fuller test\n",
    "    #H0: non stationary\n",
    "    #H1: stationary\n",
    "\n",
    "    result = adfuller(dataset['High'])\n",
    "    print('ADF Statistic: %f' % result[0])\n",
    "    print('p-value: %f' % result[1])\n",
    "    print('Critical Values:')\n",
    "    for key, value in result[4].items():\n",
    "        print('\\t%s: %.3f' % (key, value))\n",
    "    return"
   ]
  },
  {
   "cell_type": "code",
   "execution_count": 15,
   "id": "e20cbffd",
   "metadata": {},
   "outputs": [
    {
     "data": {
      "text/html": [
       "<div>\n",
       "<style scoped>\n",
       "    .dataframe tbody tr th:only-of-type {\n",
       "        vertical-align: middle;\n",
       "    }\n",
       "\n",
       "    .dataframe tbody tr th {\n",
       "        vertical-align: top;\n",
       "    }\n",
       "\n",
       "    .dataframe thead th {\n",
       "        text-align: right;\n",
       "    }\n",
       "</style>\n",
       "<table border=\"1\" class=\"dataframe\">\n",
       "  <thead>\n",
       "    <tr style=\"text-align: right;\">\n",
       "      <th></th>\n",
       "      <th>mean</th>\n",
       "      <th>std</th>\n",
       "    </tr>\n",
       "  </thead>\n",
       "  <tbody>\n",
       "    <tr>\n",
       "      <th>0</th>\n",
       "      <td>140.365196</td>\n",
       "      <td>51.153975</td>\n",
       "    </tr>\n",
       "    <tr>\n",
       "      <th>1</th>\n",
       "      <td>253.262980</td>\n",
       "      <td>46.102784</td>\n",
       "    </tr>\n",
       "    <tr>\n",
       "      <th>2</th>\n",
       "      <td>220.912289</td>\n",
       "      <td>43.122744</td>\n",
       "    </tr>\n",
       "    <tr>\n",
       "      <th>3</th>\n",
       "      <td>277.775461</td>\n",
       "      <td>24.652126</td>\n",
       "    </tr>\n",
       "    <tr>\n",
       "      <th>4</th>\n",
       "      <td>338.114265</td>\n",
       "      <td>47.663683</td>\n",
       "    </tr>\n",
       "    <tr>\n",
       "      <th>5</th>\n",
       "      <td>537.664131</td>\n",
       "      <td>54.208791</td>\n",
       "    </tr>\n",
       "    <tr>\n",
       "      <th>6</th>\n",
       "      <td>710.515983</td>\n",
       "      <td>88.280105</td>\n",
       "    </tr>\n",
       "    <tr>\n",
       "      <th>7</th>\n",
       "      <td>1021.089795</td>\n",
       "      <td>126.361815</td>\n",
       "    </tr>\n",
       "    <tr>\n",
       "      <th>8</th>\n",
       "      <td>1229.109186</td>\n",
       "      <td>124.523716</td>\n",
       "    </tr>\n",
       "    <tr>\n",
       "      <th>9</th>\n",
       "      <td>2263.732568</td>\n",
       "      <td>524.220412</td>\n",
       "    </tr>\n",
       "  </tbody>\n",
       "</table>\n",
       "</div>"
      ],
      "text/plain": [
       "          mean         std\n",
       "0   140.365196   51.153975\n",
       "1   253.262980   46.102784\n",
       "2   220.912289   43.122744\n",
       "3   277.775461   24.652126\n",
       "4   338.114265   47.663683\n",
       "5   537.664131   54.208791\n",
       "6   710.515983   88.280105\n",
       "7  1021.089795  126.361815\n",
       "8  1229.109186  124.523716\n",
       "9  2263.732568  524.220412"
      ]
     },
     "execution_count": 15,
     "metadata": {},
     "output_type": "execute_result"
    }
   ],
   "source": [
    "stationaryTest1(dataset)"
   ]
  },
  {
   "cell_type": "code",
   "execution_count": 16,
   "id": "9e36be75",
   "metadata": {},
   "outputs": [
    {
     "name": "stdout",
     "output_type": "stream",
     "text": [
      "ADF Statistic: 3.414008\n",
      "p-value: 1.000000\n",
      "Critical Values:\n",
      "\t1%: -3.432\n",
      "\t5%: -2.862\n",
      "\t10%: -2.567\n"
     ]
    }
   ],
   "source": [
    "stationaryTest2(dataset)"
   ]
  },
  {
   "cell_type": "code",
   "execution_count": 17,
   "id": "01ede6b6",
   "metadata": {},
   "outputs": [],
   "source": [
    "#P-values > 0.05 and ADF higher then any critical point\n",
    "#No reason to reject H0 so data is non stationary\n",
    "#This give us info that it will take a long time to train model"
   ]
  },
  {
   "cell_type": "code",
   "execution_count": 18,
   "id": "2746ccb2",
   "metadata": {},
   "outputs": [],
   "source": [
    "#Choose data wanted to predict\n",
    "new_dataset=dataset['High'].iloc[:-4]\n",
    "#Choose step 15 because fit better after testing strat\n",
    "step=15\n",
    "\n",
    "#Split dataset to train 80% and test 20%\n",
    "train_len = math.ceil(len(new_dataset)*0.8)"
   ]
  },
  {
   "cell_type": "code",
   "execution_count": 19,
   "id": "b4fd1ba5",
   "metadata": {},
   "outputs": [],
   "source": [
    "def SplitData(new_dataset,train_len):\n",
    "    train_data = new_dataset[0:train_len]\n",
    "    test_data = new_dataset[train_len-step:]\n",
    "    return(train_data,test_data)\n",
    "def TrainData():\n",
    "    #Train dataset\n",
    "    X_train=[]\n",
    "    Y_train=[]\n",
    "\n",
    "    for i in range(step, len(train_data)):\n",
    "        X_train.append(train_data[i-step:i])\n",
    "        Y_train.append(train_data[i])\n",
    "    X_train, Y_train= np.array(X_train), np.array(Y_train)\n",
    "    #Reshaping train data\n",
    "    X_train = np.reshape(X_train, (X_train.shape[0], X_train.shape[1], 1))\n",
    "    print(X_train.shape)\n",
    "    return (X_train, Y_train)\n",
    "def TestData(new_dataset):\n",
    "    #Split test data\n",
    "    test_data = new_dataset[train_len-step:]\n",
    "\n",
    "    X_test=[]\n",
    "    Y_test=[] \n",
    "\n",
    "    for i in range(step, len(test_data)):\n",
    "        X_test.append(test_data[i-step:i])\n",
    "        Y_test.append(test_data[i])\n",
    "    X_test, Y_test = np.array(X_test), np.array(Y_test)\n",
    "    #Reshaping data test\n",
    "    X_test = np.reshape(X_test, (X_test.shape[0], X_test.shape[1],1))\n",
    "    return(X_test,Y_test)"
   ]
  },
  {
   "cell_type": "code",
   "execution_count": 20,
   "id": "6ea69d53",
   "metadata": {},
   "outputs": [],
   "source": [
    "train_data, test_data=SplitData(new_dataset,train_len )"
   ]
  },
  {
   "cell_type": "code",
   "execution_count": 21,
   "id": "5a7b86fe",
   "metadata": {},
   "outputs": [
    {
     "name": "stdout",
     "output_type": "stream",
     "text": [
      "(3527, 15, 1)\n"
     ]
    }
   ],
   "source": [
    "X_train, Y_train =TrainData()"
   ]
  },
  {
   "cell_type": "code",
   "execution_count": 22,
   "id": "f748342b",
   "metadata": {},
   "outputs": [],
   "source": [
    "def model():\n",
    "    #Model RNN with layers\n",
    "    model=Sequential()\n",
    "    model.add(SimpleRNN(50,return_sequences=True, activation='relu', input_shape=(X_train.shape[1],1)))\n",
    "    model.add(SimpleRNN(50,return_sequences=False,activation='relu'))\n",
    "    model.add(Dense(100))\n",
    "    model.add(Dense(25))\n",
    "    model.add(Dense(1))\n",
    "\n",
    "    #Compile RNN\n",
    "    opt1=tf.keras.optimizers.Adam(learning_rate=0.001,beta_1=0.9,beta_2=0.999)\n",
    "    model.compile(loss='mean_squared_error', optimizer=opt1)\n",
    "    model.fit(X_train, Y_train, epochs=100, batch_size=10)\n",
    "    return(model)"
   ]
  },
  {
   "cell_type": "code",
   "execution_count": 23,
   "id": "fe31c557",
   "metadata": {},
   "outputs": [
    {
     "name": "stderr",
     "output_type": "stream",
     "text": [
      "2022-12-06 23:58:43.703559: I tensorflow/core/platform/cpu_feature_guard.cc:193] This TensorFlow binary is optimized with oneAPI Deep Neural Network Library (oneDNN) to use the following CPU instructions in performance-critical operations:  AVX2 FMA\n",
      "To enable them in other operations, rebuild TensorFlow with the appropriate compiler flags.\n"
     ]
    },
    {
     "name": "stdout",
     "output_type": "stream",
     "text": [
      "Epoch 1/100\n",
      "353/353 [==============================] - 6s 10ms/step - loss: 4056.1768\n",
      "Epoch 2/100\n",
      "353/353 [==============================] - 4s 11ms/step - loss: 101.9934\n",
      "Epoch 3/100\n",
      "353/353 [==============================] - 4s 10ms/step - loss: 82.7009\n",
      "Epoch 4/100\n",
      "353/353 [==============================] - 4s 13ms/step - loss: 93.1574\n",
      "Epoch 5/100\n",
      "353/353 [==============================] - 4s 10ms/step - loss: 93.3922\n",
      "Epoch 6/100\n",
      "353/353 [==============================] - 4s 12ms/step - loss: 93.4564\n",
      "Epoch 7/100\n",
      "353/353 [==============================] - 11s 30ms/step - loss: 92.5366\n",
      "Epoch 8/100\n",
      "353/353 [==============================] - 12s 34ms/step - loss: 90.7973\n",
      "Epoch 9/100\n",
      "353/353 [==============================] - 12s 35ms/step - loss: 91.2205\n",
      "Epoch 10/100\n",
      "353/353 [==============================] - 13s 36ms/step - loss: 127.6291\n",
      "Epoch 11/100\n",
      "353/353 [==============================] - 13s 37ms/step - loss: 115.9713\n",
      "Epoch 12/100\n",
      "353/353 [==============================] - 13s 36ms/step - loss: 171.0861\n",
      "Epoch 13/100\n",
      "353/353 [==============================] - 12s 34ms/step - loss: 85.8958\n",
      "Epoch 14/100\n",
      "353/353 [==============================] - 12s 34ms/step - loss: 97.8954\n",
      "Epoch 15/100\n",
      "353/353 [==============================] - 12s 35ms/step - loss: 122.2882\n",
      "Epoch 16/100\n",
      "353/353 [==============================] - 12s 34ms/step - loss: 124.2751\n",
      "Epoch 17/100\n",
      "353/353 [==============================] - 10s 28ms/step - loss: 93.0161\n",
      "Epoch 18/100\n",
      "353/353 [==============================] - 11s 31ms/step - loss: 79.2175\n",
      "Epoch 19/100\n",
      "353/353 [==============================] - 12s 34ms/step - loss: 117.0052\n",
      "Epoch 20/100\n",
      "353/353 [==============================] - 11s 31ms/step - loss: 87.0694\n",
      "Epoch 21/100\n",
      "353/353 [==============================] - 5s 14ms/step - loss: 84.0406\n",
      "Epoch 22/100\n",
      "353/353 [==============================] - 4s 10ms/step - loss: 92.8406\n",
      "Epoch 23/100\n",
      "353/353 [==============================] - 3s 9ms/step - loss: 94.0029\n",
      "Epoch 24/100\n",
      "353/353 [==============================] - 3s 9ms/step - loss: 113.3114\n",
      "Epoch 25/100\n",
      "353/353 [==============================] - 3s 9ms/step - loss: 109.3926\n",
      "Epoch 26/100\n",
      "353/353 [==============================] - 3s 8ms/step - loss: 73.4942\n",
      "Epoch 27/100\n",
      "353/353 [==============================] - 4s 11ms/step - loss: 100.9950\n",
      "Epoch 28/100\n",
      "353/353 [==============================] - 4s 10ms/step - loss: 85.3386\n",
      "Epoch 29/100\n",
      "353/353 [==============================] - 3s 9ms/step - loss: 73.9825\n",
      "Epoch 30/100\n",
      "353/353 [==============================] - 3s 8ms/step - loss: 83.9697\n",
      "Epoch 31/100\n",
      "353/353 [==============================] - 3s 10ms/step - loss: 121.3026\n",
      "Epoch 32/100\n",
      "353/353 [==============================] - 3s 9ms/step - loss: 100.9005\n",
      "Epoch 33/100\n",
      "353/353 [==============================] - 3s 8ms/step - loss: 87.1893\n",
      "Epoch 34/100\n",
      "353/353 [==============================] - 3s 8ms/step - loss: 73.7224\n",
      "Epoch 35/100\n",
      "353/353 [==============================] - 3s 9ms/step - loss: 79.1547\n",
      "Epoch 36/100\n",
      "353/353 [==============================] - 4s 13ms/step - loss: 80.1535\n",
      "Epoch 37/100\n",
      "353/353 [==============================] - 5s 15ms/step - loss: 91.0583\n",
      "Epoch 38/100\n",
      "353/353 [==============================] - 3s 8ms/step - loss: 84.5351\n",
      "Epoch 39/100\n",
      "353/353 [==============================] - 3s 8ms/step - loss: 84.4232\n",
      "Epoch 40/100\n",
      "353/353 [==============================] - 3s 8ms/step - loss: 76.6767\n",
      "Epoch 41/100\n",
      "353/353 [==============================] - 3s 10ms/step - loss: 76.6833\n",
      "Epoch 42/100\n",
      "353/353 [==============================] - 4s 10ms/step - loss: 71.9621\n",
      "Epoch 43/100\n",
      "353/353 [==============================] - 4s 10ms/step - loss: 83.8437\n",
      "Epoch 44/100\n",
      "353/353 [==============================] - 9s 26ms/step - loss: 66.0467\n",
      "Epoch 45/100\n",
      "353/353 [==============================] - 11s 30ms/step - loss: 82.0340\n",
      "Epoch 46/100\n",
      "353/353 [==============================] - 12s 33ms/step - loss: 83.1142\n",
      "Epoch 47/100\n",
      "353/353 [==============================] - 11s 32ms/step - loss: 83.4470\n",
      "Epoch 48/100\n",
      "353/353 [==============================] - 9s 27ms/step - loss: 83.3884\n",
      "Epoch 49/100\n",
      "353/353 [==============================] - 6s 17ms/step - loss: 67.3470\n",
      "Epoch 50/100\n",
      "353/353 [==============================] - 9s 26ms/step - loss: 71.8771\n",
      "Epoch 51/100\n",
      "353/353 [==============================] - 12s 34ms/step - loss: 80.6488\n",
      "Epoch 52/100\n",
      "353/353 [==============================] - 12s 33ms/step - loss: 65.4629\n",
      "Epoch 53/100\n",
      "353/353 [==============================] - 11s 32ms/step - loss: 82.5172\n",
      "Epoch 54/100\n",
      "353/353 [==============================] - 10s 29ms/step - loss: 71.8447\n",
      "Epoch 55/100\n",
      "353/353 [==============================] - 10s 29ms/step - loss: 78.1699\n",
      "Epoch 56/100\n",
      "353/353 [==============================] - 5s 14ms/step - loss: 69.3906\n",
      "Epoch 57/100\n",
      "353/353 [==============================] - 3s 9ms/step - loss: 75.8370\n",
      "Epoch 58/100\n",
      "353/353 [==============================] - 4s 11ms/step - loss: 76.2299\n",
      "Epoch 59/100\n",
      "353/353 [==============================] - 5s 15ms/step - loss: 64.1442\n",
      "Epoch 60/100\n",
      "353/353 [==============================] - 5s 14ms/step - loss: 81.1946\n",
      "Epoch 61/100\n",
      "353/353 [==============================] - 4s 12ms/step - loss: 81.1508\n",
      "Epoch 62/100\n",
      "353/353 [==============================] - 4s 12ms/step - loss: 82.4954\n",
      "Epoch 63/100\n",
      "353/353 [==============================] - 4s 12ms/step - loss: 66.9267\n",
      "Epoch 64/100\n",
      "353/353 [==============================] - 4s 11ms/step - loss: 69.4742\n",
      "Epoch 65/100\n",
      "353/353 [==============================] - 4s 10ms/step - loss: 80.3693\n",
      "Epoch 66/100\n",
      "353/353 [==============================] - 4s 11ms/step - loss: 84.8377\n",
      "Epoch 67/100\n",
      "353/353 [==============================] - 5s 13ms/step - loss: 66.4064\n",
      "Epoch 68/100\n",
      "353/353 [==============================] - 6s 16ms/step - loss: 65.2092\n",
      "Epoch 69/100\n",
      "353/353 [==============================] - 4s 12ms/step - loss: 66.5669\n",
      "Epoch 70/100\n",
      "353/353 [==============================] - 4s 12ms/step - loss: 82.7923\n",
      "Epoch 71/100\n",
      "353/353 [==============================] - 4s 11ms/step - loss: 75.6101\n",
      "Epoch 72/100\n",
      "353/353 [==============================] - 3s 10ms/step - loss: 67.3633\n",
      "Epoch 73/100\n",
      "353/353 [==============================] - 4s 11ms/step - loss: 80.4207\n",
      "Epoch 74/100\n",
      "353/353 [==============================] - 4s 12ms/step - loss: 63.3069\n",
      "Epoch 75/100\n",
      "353/353 [==============================] - 4s 10ms/step - loss: 70.7774\n",
      "Epoch 76/100\n",
      "353/353 [==============================] - 4s 10ms/step - loss: 66.6468\n",
      "Epoch 77/100\n",
      "353/353 [==============================] - 4s 10ms/step - loss: 61.6318\n",
      "Epoch 78/100\n",
      "353/353 [==============================] - 4s 11ms/step - loss: 78.5365\n",
      "Epoch 79/100\n",
      "353/353 [==============================] - 4s 12ms/step - loss: 71.9646\n",
      "Epoch 80/100\n",
      "353/353 [==============================] - 4s 11ms/step - loss: 76.0393\n",
      "Epoch 81/100\n",
      "353/353 [==============================] - 6s 16ms/step - loss: 66.3949\n",
      "Epoch 82/100\n",
      "353/353 [==============================] - 5s 14ms/step - loss: 63.6066\n",
      "Epoch 83/100\n",
      "353/353 [==============================] - 4s 11ms/step - loss: 63.1022\n",
      "Epoch 84/100\n",
      "353/353 [==============================] - 6s 17ms/step - loss: 70.1297\n",
      "Epoch 85/100\n",
      "353/353 [==============================] - 6s 17ms/step - loss: 71.7200\n",
      "Epoch 86/100\n",
      "353/353 [==============================] - 5s 14ms/step - loss: 85.6574\n",
      "Epoch 87/100\n",
      "353/353 [==============================] - 4s 11ms/step - loss: 60.2060\n",
      "Epoch 88/100\n",
      "353/353 [==============================] - 3s 10ms/step - loss: 69.2268\n",
      "Epoch 89/100\n",
      "353/353 [==============================] - 3s 9ms/step - loss: 67.6913\n",
      "Epoch 90/100\n",
      "353/353 [==============================] - 3s 9ms/step - loss: 68.4838\n",
      "Epoch 91/100\n",
      "353/353 [==============================] - 5s 13ms/step - loss: 66.8055\n",
      "Epoch 92/100\n",
      "353/353 [==============================] - 3s 10ms/step - loss: 75.1576\n",
      "Epoch 93/100\n",
      "353/353 [==============================] - 3s 9ms/step - loss: 77.9891\n",
      "Epoch 94/100\n",
      "353/353 [==============================] - 3s 9ms/step - loss: 79.2953\n",
      "Epoch 95/100\n",
      "353/353 [==============================] - 3s 9ms/step - loss: 82.5928\n",
      "Epoch 96/100\n",
      "353/353 [==============================] - 4s 11ms/step - loss: 68.7624\n",
      "Epoch 97/100\n",
      "353/353 [==============================] - 6s 16ms/step - loss: 67.5228\n",
      "Epoch 98/100\n",
      "353/353 [==============================] - 8s 23ms/step - loss: 62.0005\n",
      "Epoch 99/100\n",
      "353/353 [==============================] - 10s 28ms/step - loss: 88.1945\n",
      "Epoch 100/100\n",
      "353/353 [==============================] - 5s 13ms/step - loss: 61.4572\n"
     ]
    }
   ],
   "source": [
    "model=model()"
   ]
  },
  {
   "cell_type": "code",
   "execution_count": 24,
   "id": "63e7ce9b",
   "metadata": {
    "scrolled": true
   },
   "outputs": [],
   "source": [
    "X_test, Y_test = TestData(new_dataset)"
   ]
  },
  {
   "cell_type": "code",
   "execution_count": 25,
   "id": "2fc91cc8",
   "metadata": {},
   "outputs": [],
   "source": [
    "def predictionChart(X_test,X_train):\n",
    "    #Prediction\n",
    "    RNN_train_pred = model.predict(X_train)\n",
    "    RNN_valid_pred = model.predict(X_test)\n",
    "    #Chart of prediction and real value\n",
    "    valid = pd.DataFrame(new_dataset[train_len:])\n",
    "    valid['Predictions']=RNN_valid_pred\n",
    "    valid\n",
    "    return(valid,RNN_train_pred,RNN_valid_pred )\n",
    "\n",
    "def predictionGraph1(valid):\n",
    "    plt.plot(valid[['High','Predictions']])\n",
    "    plt.legend(['Validation','Predictions'])\n",
    "    plt.show()\n",
    "    return"
   ]
  },
  {
   "cell_type": "code",
   "execution_count": 26,
   "id": "e5d227ab",
   "metadata": {},
   "outputs": [
    {
     "name": "stdout",
     "output_type": "stream",
     "text": [
      "111/111 [==============================] - 1s 3ms/step\n",
      "28/28 [==============================] - 0s 5ms/step\n"
     ]
    }
   ],
   "source": [
    "valid, RNN_train_pred, RNN_valid_pred  = predictionChart(X_test,X_train)"
   ]
  },
  {
   "cell_type": "code",
   "execution_count": 27,
   "id": "9db30770",
   "metadata": {},
   "outputs": [
    {
     "data": {
      "text/html": [
       "<div>\n",
       "<style scoped>\n",
       "    .dataframe tbody tr th:only-of-type {\n",
       "        vertical-align: middle;\n",
       "    }\n",
       "\n",
       "    .dataframe tbody tr th {\n",
       "        vertical-align: top;\n",
       "    }\n",
       "\n",
       "    .dataframe thead th {\n",
       "        text-align: right;\n",
       "    }\n",
       "</style>\n",
       "<table border=\"1\" class=\"dataframe\">\n",
       "  <thead>\n",
       "    <tr style=\"text-align: right;\">\n",
       "      <th></th>\n",
       "      <th>High</th>\n",
       "      <th>Predictions</th>\n",
       "    </tr>\n",
       "    <tr>\n",
       "      <th>Date</th>\n",
       "      <th></th>\n",
       "      <th></th>\n",
       "    </tr>\n",
       "  </thead>\n",
       "  <tbody>\n",
       "    <tr>\n",
       "      <th>2018-09-13</th>\n",
       "      <td>1187.859985</td>\n",
       "      <td>1193.285645</td>\n",
       "    </tr>\n",
       "    <tr>\n",
       "      <th>2018-09-14</th>\n",
       "      <td>1188.000000</td>\n",
       "      <td>1190.147461</td>\n",
       "    </tr>\n",
       "    <tr>\n",
       "      <th>2018-09-17</th>\n",
       "      <td>1181.819946</td>\n",
       "      <td>1190.534058</td>\n",
       "    </tr>\n",
       "    <tr>\n",
       "      <th>2018-09-18</th>\n",
       "      <td>1181.329956</td>\n",
       "      <td>1183.503906</td>\n",
       "    </tr>\n",
       "    <tr>\n",
       "      <th>2018-09-19</th>\n",
       "      <td>1176.270020</td>\n",
       "      <td>1183.915894</td>\n",
       "    </tr>\n",
       "    <tr>\n",
       "      <th>...</th>\n",
       "      <td>...</td>\n",
       "      <td>...</td>\n",
       "    </tr>\n",
       "    <tr>\n",
       "      <th>2022-03-14</th>\n",
       "      <td>2608.179932</td>\n",
       "      <td>2683.798584</td>\n",
       "    </tr>\n",
       "    <tr>\n",
       "      <th>2022-03-15</th>\n",
       "      <td>2597.090088</td>\n",
       "      <td>2604.178955</td>\n",
       "    </tr>\n",
       "    <tr>\n",
       "      <th>2022-03-16</th>\n",
       "      <td>2666.659912</td>\n",
       "      <td>2602.282715</td>\n",
       "    </tr>\n",
       "    <tr>\n",
       "      <th>2022-03-17</th>\n",
       "      <td>2681.610107</td>\n",
       "      <td>2680.132568</td>\n",
       "    </tr>\n",
       "    <tr>\n",
       "      <th>2022-03-18</th>\n",
       "      <td>2724.879883</td>\n",
       "      <td>2688.603760</td>\n",
       "    </tr>\n",
       "  </tbody>\n",
       "</table>\n",
       "<p>885 rows × 2 columns</p>\n",
       "</div>"
      ],
      "text/plain": [
       "                   High  Predictions\n",
       "Date                                \n",
       "2018-09-13  1187.859985  1193.285645\n",
       "2018-09-14  1188.000000  1190.147461\n",
       "2018-09-17  1181.819946  1190.534058\n",
       "2018-09-18  1181.329956  1183.503906\n",
       "2018-09-19  1176.270020  1183.915894\n",
       "...                 ...          ...\n",
       "2022-03-14  2608.179932  2683.798584\n",
       "2022-03-15  2597.090088  2604.178955\n",
       "2022-03-16  2666.659912  2602.282715\n",
       "2022-03-17  2681.610107  2680.132568\n",
       "2022-03-18  2724.879883  2688.603760\n",
       "\n",
       "[885 rows x 2 columns]"
      ]
     },
     "execution_count": 27,
     "metadata": {},
     "output_type": "execute_result"
    }
   ],
   "source": [
    "valid"
   ]
  },
  {
   "cell_type": "code",
   "execution_count": 28,
   "id": "c634e3d1",
   "metadata": {},
   "outputs": [
    {
     "data": {
      "image/png": "[encoded data removed]",
      "text/plain": [
       "<Figure size 640x480 with 1 Axes>"
      ]
     },
     "metadata": {},
     "output_type": "display_data"
    }
   ],
   "source": [
    "predictionGraph1(valid)"
   ]
  },
  {
   "cell_type": "code",
   "execution_count": 29,
   "id": "e80e2041",
   "metadata": {},
   "outputs": [],
   "source": [
    "def predictionGraph2(valid):\n",
    "    train = new_dataset[:train_len]\n",
    "    valid = pd.DataFrame(new_dataset[train_len:])\n",
    "    valid['Predictions']=RNN_valid_pred\n",
    "\n",
    "    plt.figure(figsize=(16,8))\n",
    "    plt.title('Model RNN')\n",
    "    plt.xlabel('Date')\n",
    "    plt.ylabel('Close Price USD')\n",
    "    plt.plot(train)\n",
    "    plt.plot(valid[['High','Predictions']])\n",
    "    plt.legend(['Train','Validation','Predictions'])\n",
    "    plt.show()\n",
    "    return"
   ]
  },
  {
   "cell_type": "code",
   "execution_count": 30,
   "id": "b7fc3911",
   "metadata": {},
   "outputs": [
    {
     "data": {
      "image/png": "[encoded data removed]",
      "text/plain": [
       "<Figure size 1600x800 with 1 Axes>"
      ]
     },
     "metadata": {},
     "output_type": "display_data"
    }
   ],
   "source": [
    "predictionGraph2(valid)"
   ]
  },
  {
   "cell_type": "code",
   "execution_count": 31,
   "id": "9de55c00",
   "metadata": {},
   "outputs": [],
   "source": [
    "def accuracyRMSE():\n",
    "    #Metric error\n",
    "    print('Train RMSE:', np.sqrt(mean_squared_error(Y_train, RNN_train_pred)))\n",
    "    print('Validation RMSE:', np.sqrt(mean_squared_error(Y_test, RNN_valid_pred)))\n",
    "    return"
   ]
  },
  {
   "cell_type": "code",
   "execution_count": 32,
   "id": "7cf3c340",
   "metadata": {},
   "outputs": [
    {
     "name": "stdout",
     "output_type": "stream",
     "text": [
      "Train RMSE: 6.825585661654827\n",
      "Validation RMSE: 28.72876133705932\n"
     ]
    }
   ],
   "source": [
    "accuracyRMSE()"
   ]
  },
  {
   "cell_type": "code",
   "execution_count": 33,
   "id": "8a3d6bd2",
   "metadata": {},
   "outputs": [],
   "source": [
    "def futurPrediction1(num):\n",
    "    #Predict futur value after 2022-03-18\n",
    "    last_days=new_dataset[-num:].values\n",
    "    X_test=[]\n",
    "    X_test.append(last_days)\n",
    "    X_test=np.array(X_test)\n",
    "    X_test=np.reshape(X_test,(X_test.shape[0],X_test.shape[1],1))\n",
    "    pred_price=model.predict(X_test)\n",
    "    print(pred_price)\n",
    "    return(pred_price)\n",
    "def futurPrediction2(num):\n",
    "    last_days=new_dataset[-num:].values\n",
    "    X_test=[]\n",
    "    #Add price calculated\n",
    "    X_test=np.append(last_days,pred_price)\n",
    "    X_test=np.array(X_test)\n",
    "    X_test\n",
    "    X_test=np.reshape(X_test,(1,X_test.shape[0],1))\n",
    "    print(X_test)\n",
    "    pred_price2=model.predict(X_test)\n",
    "    print(pred_price2)\n",
    "    return(pred_price2)\n",
    "def comparePrediction(num):\n",
    "    #display the days after 2022-03-18\n",
    "    print(dataset['High'].iloc[-num])\n",
    "    #Difference\n",
    "    print(dataset['High'].iloc[-num]-pred_price)\n",
    "    #less then 30$\n",
    "\n",
    "    #predicting 4 new value after 2022-03-18\n",
    "    print(dataset.High.tail(14))\n",
    "    return\n"
   ]
  },
  {
   "cell_type": "code",
   "execution_count": 34,
   "id": "2e4754c7",
   "metadata": {},
   "outputs": [],
   "source": [
    "actual_prices=[]\n",
    "pred_prices = []"
   ]
  },
  {
   "cell_type": "code",
   "execution_count": 35,
   "id": "aa4b8df9",
   "metadata": {},
   "outputs": [
    {
     "name": "stdout",
     "output_type": "stream",
     "text": [
      "1/1 [==============================] - 0s 405ms/step\n",
      "[[2736.7705]]\n"
     ]
    }
   ],
   "source": [
    "#Predict 4 future day\n",
    "pred_price = futurPrediction1(10)\n"
   ]
  },
  {
   "cell_type": "code",
   "execution_count": 36,
   "id": "e92ae573",
   "metadata": {},
   "outputs": [
    {
     "name": "stdout",
     "output_type": "stream",
     "text": [
      "2741.0\n",
      "[[4.229492]]\n",
      "Date\n",
      "2022-03-07    2634.699951\n",
      "2022-03-08    2625.000000\n",
      "2022-03-09    2674.709961\n",
      "2022-03-10    2665.439941\n",
      "2022-03-11    2675.909912\n",
      "2022-03-14    2608.179932\n",
      "2022-03-15    2597.090088\n",
      "2022-03-16    2666.659912\n",
      "2022-03-17    2681.610107\n",
      "2022-03-18    2724.879883\n",
      "2022-03-21    2741.000000\n",
      "2022-03-22    2821.000000\n",
      "2022-03-23    2791.770020\n",
      "2022-03-24    2832.379883\n",
      "Name: High, dtype: float64\n"
     ]
    }
   ],
   "source": [
    "comparePrediction(4)"
   ]
  },
  {
   "cell_type": "code",
   "execution_count": 37,
   "id": "521a524c",
   "metadata": {},
   "outputs": [
    {
     "name": "stdout",
     "output_type": "stream",
     "text": [
      "[[[2625.        ]\n",
      "  [2674.709961  ]\n",
      "  [2665.439941  ]\n",
      "  [2675.909912  ]\n",
      "  [2608.179932  ]\n",
      "  [2597.090088  ]\n",
      "  [2666.659912  ]\n",
      "  [2681.610107  ]\n",
      "  [2724.879883  ]\n",
      "  [2736.77050781]]]\n",
      "1/1 [==============================] - 0s 30ms/step\n",
      "[[2742.4167]]\n"
     ]
    }
   ],
   "source": [
    "pred_price2 = futurPrediction2(9)"
   ]
  },
  {
   "cell_type": "code",
   "execution_count": 38,
   "id": "35a391e3",
   "metadata": {},
   "outputs": [
    {
     "name": "stdout",
     "output_type": "stream",
     "text": [
      "2821.0\n",
      "[[84.22949]]\n",
      "Date\n",
      "2022-03-07    2634.699951\n",
      "2022-03-08    2625.000000\n",
      "2022-03-09    2674.709961\n",
      "2022-03-10    2665.439941\n",
      "2022-03-11    2675.909912\n",
      "2022-03-14    2608.179932\n",
      "2022-03-15    2597.090088\n",
      "2022-03-16    2666.659912\n",
      "2022-03-17    2681.610107\n",
      "2022-03-18    2724.879883\n",
      "2022-03-21    2741.000000\n",
      "2022-03-22    2821.000000\n",
      "2022-03-23    2791.770020\n",
      "2022-03-24    2832.379883\n",
      "Name: High, dtype: float64\n"
     ]
    }
   ],
   "source": [
    "comparePrediction(3)"
   ]
  },
  {
   "cell_type": "code",
   "execution_count": 39,
   "id": "214ec24b",
   "metadata": {},
   "outputs": [
    {
     "name": "stdout",
     "output_type": "stream",
     "text": [
      "[[[2674.709961  ]\n",
      "  [2665.439941  ]\n",
      "  [2675.909912  ]\n",
      "  [2608.179932  ]\n",
      "  [2597.090088  ]\n",
      "  [2666.659912  ]\n",
      "  [2681.610107  ]\n",
      "  [2724.879883  ]\n",
      "  [2736.77050781]]]\n",
      "1/1 [==============================] - 0s 26ms/step\n",
      "[[2742.186]]\n"
     ]
    }
   ],
   "source": [
    "pred_price2 = futurPrediction2(8)"
   ]
  },
  {
   "cell_type": "code",
   "execution_count": 40,
   "id": "da3e9d8e",
   "metadata": {},
   "outputs": [
    {
     "name": "stdout",
     "output_type": "stream",
     "text": [
      "2791.77002\n",
      "[[54.99951]]\n",
      "Date\n",
      "2022-03-07    2634.699951\n",
      "2022-03-08    2625.000000\n",
      "2022-03-09    2674.709961\n",
      "2022-03-10    2665.439941\n",
      "2022-03-11    2675.909912\n",
      "2022-03-14    2608.179932\n",
      "2022-03-15    2597.090088\n",
      "2022-03-16    2666.659912\n",
      "2022-03-17    2681.610107\n",
      "2022-03-18    2724.879883\n",
      "2022-03-21    2741.000000\n",
      "2022-03-22    2821.000000\n",
      "2022-03-23    2791.770020\n",
      "2022-03-24    2832.379883\n",
      "Name: High, dtype: float64\n"
     ]
    }
   ],
   "source": [
    "comparePrediction(2)"
   ]
  },
  {
   "cell_type": "code",
   "execution_count": 41,
   "id": "9e0a1a6c",
   "metadata": {},
   "outputs": [
    {
     "name": "stdout",
     "output_type": "stream",
     "text": [
      "[[[2665.439941  ]\n",
      "  [2675.909912  ]\n",
      "  [2608.179932  ]\n",
      "  [2597.090088  ]\n",
      "  [2666.659912  ]\n",
      "  [2681.610107  ]\n",
      "  [2724.879883  ]\n",
      "  [2736.77050781]]]\n",
      "1/1 [==============================] - 0s 29ms/step\n",
      "[[2741.6018]]\n"
     ]
    }
   ],
   "source": [
    "pred_price2 = futurPrediction2(7)"
   ]
  },
  {
   "cell_type": "code",
   "execution_count": 42,
   "id": "8884f586",
   "metadata": {},
   "outputs": [
    {
     "name": "stdout",
     "output_type": "stream",
     "text": [
      "2832.379883\n",
      "[[95.609375]]\n",
      "Date\n",
      "2022-03-07    2634.699951\n",
      "2022-03-08    2625.000000\n",
      "2022-03-09    2674.709961\n",
      "2022-03-10    2665.439941\n",
      "2022-03-11    2675.909912\n",
      "2022-03-14    2608.179932\n",
      "2022-03-15    2597.090088\n",
      "2022-03-16    2666.659912\n",
      "2022-03-17    2681.610107\n",
      "2022-03-18    2724.879883\n",
      "2022-03-21    2741.000000\n",
      "2022-03-22    2821.000000\n",
      "2022-03-23    2791.770020\n",
      "2022-03-24    2832.379883\n",
      "Name: High, dtype: float64\n"
     ]
    }
   ],
   "source": [
    "comparePrediction(1)"
   ]
  },
  {
   "cell_type": "code",
   "execution_count": 43,
   "id": "f4965aaf",
   "metadata": {},
   "outputs": [
    {
     "name": "stdout",
     "output_type": "stream",
     "text": [
      "[[[2675.909912  ]\n",
      "  [2608.179932  ]\n",
      "  [2597.090088  ]\n",
      "  [2666.659912  ]\n",
      "  [2681.610107  ]\n",
      "  [2724.879883  ]\n",
      "  [2736.77050781]]]\n",
      "1/1 [==============================] - 0s 27ms/step\n",
      "[[2742.304]]\n"
     ]
    }
   ],
   "source": [
    "# 2 futur days\n",
    "pred_price2 = futurPrediction2(6)"
   ]
  },
  {
   "cell_type": "code",
   "execution_count": 44,
   "id": "ec55c183",
   "metadata": {},
   "outputs": [
    {
     "name": "stdout",
     "output_type": "stream",
     "text": [
      "[[[2608.179932  ]\n",
      "  [2597.090088  ]\n",
      "  [2666.659912  ]\n",
      "  [2681.610107  ]\n",
      "  [2724.879883  ]\n",
      "  [2736.77050781]]]\n",
      "1/1 [==============================] - 0s 30ms/step\n",
      "[[2741.874]]\n"
     ]
    }
   ],
   "source": [
    "pred_price2 = futurPrediction2(5)"
   ]
  },
  {
   "cell_type": "code",
   "execution_count": 45,
   "id": "217d88af",
   "metadata": {},
   "outputs": [
    {
     "name": "stdout",
     "output_type": "stream",
     "text": [
      "[[[2597.090088  ]\n",
      "  [2666.659912  ]\n",
      "  [2681.610107  ]\n",
      "  [2724.879883  ]\n",
      "  [2736.77050781]]]\n",
      "1/1 [==============================] - 0s 54ms/step\n",
      "[[2747.0596]]\n"
     ]
    }
   ],
   "source": [
    "pred_price2 = futurPrediction2(4)"
   ]
  },
  {
   "cell_type": "code",
   "execution_count": 46,
   "id": "595a7d11",
   "metadata": {},
   "outputs": [
    {
     "name": "stdout",
     "output_type": "stream",
     "text": [
      "[[[2666.659912  ]\n",
      "  [2681.610107  ]\n",
      "  [2724.879883  ]\n",
      "  [2736.77050781]]]\n",
      "1/1 [==============================] - 0s 71ms/step\n",
      "[[2635.8137]]\n"
     ]
    }
   ],
   "source": [
    "pred_price2 = futurPrediction2(3)"
   ]
  },
  {
   "cell_type": "code",
   "execution_count": null,
   "id": "1f39b017",
   "metadata": {},
   "outputs": [],
   "source": []
  }
 ],
 "metadata": {
  "kernelspec": {
   "display_name": "Python 3 (ipykernel)",
   "language": "python",
   "name": "python3"
  },
  "language_info": {
   "codemirror_mode": {
    "name": "ipython",
    "version": 3
   },
   "file_extension": ".py",
   "mimetype": "text/x-python",
   "name": "python",
   "nbconvert_exporter": "python",
   "pygments_lexer": "ipython3",
   "version": "3.9.13"
  }
 },
 "nbformat": 4,
 "nbformat_minor": 5
}
