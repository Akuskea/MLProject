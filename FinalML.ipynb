{
 "cells": [
  {
   "cell_type": "code",
   "execution_count": 7,
   "id": "8d1793df",
   "metadata": {},
   "outputs": [],
   "source": [
    "#Importing Libraries\n",
    "import numpy as np\n",
    "import pandas as pd\n",
    "import matplotlib.pyplot as plt\n",
    "import tensorflow as tf\n",
    "import datetime as dt\n",
    "from keras import Sequential\n",
    "from keras.layers import Dense, Activation\n",
    "from tensorflow.keras.models import Sequential\n",
    "import math\n",
    "from keras.layers import SimpleRNN\n",
    "from statistics import stdev\n",
    "from statsmodels.tsa.stattools import adfuller\n",
    "from sklearn.metrics import mean_squared_error\n",
    "\n",
    "%matplotlib inline"
   ]
  },
  {
   "cell_type": "code",
   "execution_count": 8,
   "id": "c09b8de8",
   "metadata": {},
   "outputs": [
    {
     "data": {
      "text/html": [
       "<div>\n",
       "<style scoped>\n",
       "    .dataframe tbody tr th:only-of-type {\n",
       "        vertical-align: middle;\n",
       "    }\n",
       "\n",
       "    .dataframe tbody tr th {\n",
       "        vertical-align: top;\n",
       "    }\n",
       "\n",
       "    .dataframe thead th {\n",
       "        text-align: right;\n",
       "    }\n",
       "</style>\n",
       "<table border=\"1\" class=\"dataframe\">\n",
       "  <thead>\n",
       "    <tr style=\"text-align: right;\">\n",
       "      <th></th>\n",
       "      <th>Date</th>\n",
       "      <th>Open</th>\n",
       "      <th>High</th>\n",
       "      <th>Low</th>\n",
       "      <th>Close</th>\n",
       "      <th>Adj Close</th>\n",
       "      <th>Volume</th>\n",
       "    </tr>\n",
       "  </thead>\n",
       "  <tbody>\n",
       "    <tr>\n",
       "      <th>0</th>\n",
       "      <td>2004-08-19</td>\n",
       "      <td>50.050049</td>\n",
       "      <td>52.082081</td>\n",
       "      <td>48.028027</td>\n",
       "      <td>50.220219</td>\n",
       "      <td>50.220219</td>\n",
       "      <td>44659096</td>\n",
       "    </tr>\n",
       "    <tr>\n",
       "      <th>1</th>\n",
       "      <td>2004-08-20</td>\n",
       "      <td>50.555557</td>\n",
       "      <td>54.594597</td>\n",
       "      <td>50.300301</td>\n",
       "      <td>54.209209</td>\n",
       "      <td>54.209209</td>\n",
       "      <td>22834343</td>\n",
       "    </tr>\n",
       "    <tr>\n",
       "      <th>2</th>\n",
       "      <td>2004-08-23</td>\n",
       "      <td>55.430431</td>\n",
       "      <td>56.796799</td>\n",
       "      <td>54.579578</td>\n",
       "      <td>54.754753</td>\n",
       "      <td>54.754753</td>\n",
       "      <td>18256126</td>\n",
       "    </tr>\n",
       "    <tr>\n",
       "      <th>3</th>\n",
       "      <td>2004-08-24</td>\n",
       "      <td>55.675674</td>\n",
       "      <td>55.855858</td>\n",
       "      <td>51.836838</td>\n",
       "      <td>52.487488</td>\n",
       "      <td>52.487488</td>\n",
       "      <td>15247337</td>\n",
       "    </tr>\n",
       "    <tr>\n",
       "      <th>4</th>\n",
       "      <td>2004-08-25</td>\n",
       "      <td>52.532532</td>\n",
       "      <td>54.054054</td>\n",
       "      <td>51.991993</td>\n",
       "      <td>53.053055</td>\n",
       "      <td>53.053055</td>\n",
       "      <td>9188602</td>\n",
       "    </tr>\n",
       "  </tbody>\n",
       "</table>\n",
       "</div>"
      ],
      "text/plain": [
       "         Date       Open       High        Low      Close  Adj Close    Volume\n",
       "0  2004-08-19  50.050049  52.082081  48.028027  50.220219  50.220219  44659096\n",
       "1  2004-08-20  50.555557  54.594597  50.300301  54.209209  54.209209  22834343\n",
       "2  2004-08-23  55.430431  56.796799  54.579578  54.754753  54.754753  18256126\n",
       "3  2004-08-24  55.675674  55.855858  51.836838  52.487488  52.487488  15247337\n",
       "4  2004-08-25  52.532532  54.054054  51.991993  53.053055  53.053055   9188602"
      ]
     },
     "execution_count": 8,
     "metadata": {},
     "output_type": "execute_result"
    }
   ],
   "source": [
    "#Open the dataset \n",
    "dataset = pd.read_csv('Desktop/GOOGL.csv')\n",
    "dataset.head()"
   ]
  },
  {
   "cell_type": "code",
   "execution_count": 9,
   "id": "503af43e",
   "metadata": {},
   "outputs": [
    {
     "data": {
      "text/plain": [
       "(4431, 7)"
      ]
     },
     "execution_count": 9,
     "metadata": {},
     "output_type": "execute_result"
    }
   ],
   "source": [
    "#Examine data\n",
    "dataset.shape"
   ]
  },
  {
   "cell_type": "code",
   "execution_count": 10,
   "id": "ab227f98",
   "metadata": {},
   "outputs": [
    {
     "name": "stdout",
     "output_type": "stream",
     "text": [
      "<class 'pandas.core.frame.DataFrame'>\n",
      "RangeIndex: 4431 entries, 0 to 4430\n",
      "Data columns (total 7 columns):\n",
      " #   Column     Non-Null Count  Dtype  \n",
      "---  ------     --------------  -----  \n",
      " 0   Date       4431 non-null   object \n",
      " 1   Open       4431 non-null   float64\n",
      " 2   High       4431 non-null   float64\n",
      " 3   Low        4431 non-null   float64\n",
      " 4   Close      4431 non-null   float64\n",
      " 5   Adj Close  4431 non-null   float64\n",
      " 6   Volume     4431 non-null   int64  \n",
      "dtypes: float64(5), int64(1), object(1)\n",
      "memory usage: 242.4+ KB\n"
     ]
    }
   ],
   "source": [
    "dataset.info()"
   ]
  },
  {
   "cell_type": "code",
   "execution_count": 11,
   "id": "05e97fbc",
   "metadata": {
    "scrolled": true
   },
   "outputs": [
    {
     "data": {
      "text/plain": [
       "Date          object\n",
       "Open         float64\n",
       "High         float64\n",
       "Low          float64\n",
       "Close        float64\n",
       "Adj Close    float64\n",
       "Volume         int64\n",
       "dtype: object"
      ]
     },
     "execution_count": 11,
     "metadata": {},
     "output_type": "execute_result"
    }
   ],
   "source": [
    "dataset.dtypes"
   ]
  },
  {
   "cell_type": "code",
   "execution_count": 12,
   "id": "96e4a85e",
   "metadata": {},
   "outputs": [
    {
     "data": {
      "text/plain": [
       "Date         0\n",
       "Open         0\n",
       "High         0\n",
       "Low          0\n",
       "Close        0\n",
       "Adj Close    0\n",
       "Volume       0\n",
       "dtype: int64"
      ]
     },
     "execution_count": 12,
     "metadata": {},
     "output_type": "execute_result"
    }
   ],
   "source": [
    "#Check if data missing\n",
    "dataset.isnull().sum()"
   ]
  },
  {
   "cell_type": "code",
   "execution_count": 13,
   "id": "d2c368e3",
   "metadata": {},
   "outputs": [],
   "source": [
    "#Change type of date to datetime type \n",
    "dataset.Date=pd.to_datetime(dataset['Date'])"
   ]
  },
  {
   "cell_type": "code",
   "execution_count": 14,
   "id": "0aa91bd3",
   "metadata": {},
   "outputs": [
    {
     "data": {
      "text/plain": [
       "Date         datetime64[ns]\n",
       "Open                float64\n",
       "High                float64\n",
       "Low                 float64\n",
       "Close               float64\n",
       "Adj Close           float64\n",
       "Volume                int64\n",
       "dtype: object"
      ]
     },
     "execution_count": 14,
     "metadata": {},
     "output_type": "execute_result"
    }
   ],
   "source": [
    "dataset.dtypes"
   ]
  },
  {
   "cell_type": "code",
   "execution_count": 15,
   "id": "f24fb3ec",
   "metadata": {},
   "outputs": [
    {
     "data": {
      "text/plain": [
       "Timedelta('6426 days 00:00:00')"
      ]
     },
     "execution_count": 15,
     "metadata": {},
     "output_type": "execute_result"
    }
   ],
   "source": [
    "#Analyse date data\n",
    "dataset.Date.min(),dataset.Date.max()\n",
    "dataset.Date.max()-dataset.Date.min()"
   ]
  },
  {
   "cell_type": "code",
   "execution_count": 16,
   "id": "ebbf86e2",
   "metadata": {},
   "outputs": [
    {
     "data": {
      "text/html": [
       "<div>\n",
       "<style scoped>\n",
       "    .dataframe tbody tr th:only-of-type {\n",
       "        vertical-align: middle;\n",
       "    }\n",
       "\n",
       "    .dataframe tbody tr th {\n",
       "        vertical-align: top;\n",
       "    }\n",
       "\n",
       "    .dataframe thead th {\n",
       "        text-align: right;\n",
       "    }\n",
       "</style>\n",
       "<table border=\"1\" class=\"dataframe\">\n",
       "  <thead>\n",
       "    <tr style=\"text-align: right;\">\n",
       "      <th></th>\n",
       "      <th>Open</th>\n",
       "      <th>High</th>\n",
       "      <th>Low</th>\n",
       "      <th>Close</th>\n",
       "      <th>Adj Close</th>\n",
       "      <th>Volume</th>\n",
       "    </tr>\n",
       "    <tr>\n",
       "      <th>Date</th>\n",
       "      <th></th>\n",
       "      <th></th>\n",
       "      <th></th>\n",
       "      <th></th>\n",
       "      <th></th>\n",
       "      <th></th>\n",
       "    </tr>\n",
       "  </thead>\n",
       "  <tbody>\n",
       "    <tr>\n",
       "      <th>2004-08-19</th>\n",
       "      <td>50.050049</td>\n",
       "      <td>52.082081</td>\n",
       "      <td>48.028027</td>\n",
       "      <td>50.220219</td>\n",
       "      <td>50.220219</td>\n",
       "      <td>44659096</td>\n",
       "    </tr>\n",
       "    <tr>\n",
       "      <th>2004-08-20</th>\n",
       "      <td>50.555557</td>\n",
       "      <td>54.594597</td>\n",
       "      <td>50.300301</td>\n",
       "      <td>54.209209</td>\n",
       "      <td>54.209209</td>\n",
       "      <td>22834343</td>\n",
       "    </tr>\n",
       "    <tr>\n",
       "      <th>2004-08-23</th>\n",
       "      <td>55.430431</td>\n",
       "      <td>56.796799</td>\n",
       "      <td>54.579578</td>\n",
       "      <td>54.754753</td>\n",
       "      <td>54.754753</td>\n",
       "      <td>18256126</td>\n",
       "    </tr>\n",
       "    <tr>\n",
       "      <th>2004-08-24</th>\n",
       "      <td>55.675674</td>\n",
       "      <td>55.855858</td>\n",
       "      <td>51.836838</td>\n",
       "      <td>52.487488</td>\n",
       "      <td>52.487488</td>\n",
       "      <td>15247337</td>\n",
       "    </tr>\n",
       "    <tr>\n",
       "      <th>2004-08-25</th>\n",
       "      <td>52.532532</td>\n",
       "      <td>54.054054</td>\n",
       "      <td>51.991993</td>\n",
       "      <td>53.053055</td>\n",
       "      <td>53.053055</td>\n",
       "      <td>9188602</td>\n",
       "    </tr>\n",
       "    <tr>\n",
       "      <th>...</th>\n",
       "      <td>...</td>\n",
       "      <td>...</td>\n",
       "      <td>...</td>\n",
       "      <td>...</td>\n",
       "      <td>...</td>\n",
       "      <td>...</td>\n",
       "    </tr>\n",
       "    <tr>\n",
       "      <th>2022-03-18</th>\n",
       "      <td>2668.489990</td>\n",
       "      <td>2724.879883</td>\n",
       "      <td>2645.169922</td>\n",
       "      <td>2722.510010</td>\n",
       "      <td>2722.510010</td>\n",
       "      <td>2223100</td>\n",
       "    </tr>\n",
       "    <tr>\n",
       "      <th>2022-03-21</th>\n",
       "      <td>2723.270020</td>\n",
       "      <td>2741.000000</td>\n",
       "      <td>2681.850098</td>\n",
       "      <td>2722.030029</td>\n",
       "      <td>2722.030029</td>\n",
       "      <td>1341600</td>\n",
       "    </tr>\n",
       "    <tr>\n",
       "      <th>2022-03-22</th>\n",
       "      <td>2722.030029</td>\n",
       "      <td>2821.000000</td>\n",
       "      <td>2722.030029</td>\n",
       "      <td>2797.360107</td>\n",
       "      <td>2797.360107</td>\n",
       "      <td>1774800</td>\n",
       "    </tr>\n",
       "    <tr>\n",
       "      <th>2022-03-23</th>\n",
       "      <td>2774.050049</td>\n",
       "      <td>2791.770020</td>\n",
       "      <td>2756.699951</td>\n",
       "      <td>2765.510010</td>\n",
       "      <td>2765.510010</td>\n",
       "      <td>1257700</td>\n",
       "    </tr>\n",
       "    <tr>\n",
       "      <th>2022-03-24</th>\n",
       "      <td>2784.000000</td>\n",
       "      <td>2832.379883</td>\n",
       "      <td>2755.010010</td>\n",
       "      <td>2831.439941</td>\n",
       "      <td>2831.439941</td>\n",
       "      <td>1317900</td>\n",
       "    </tr>\n",
       "  </tbody>\n",
       "</table>\n",
       "<p>4431 rows × 6 columns</p>\n",
       "</div>"
      ],
      "text/plain": [
       "                   Open         High          Low        Close    Adj Close  \\\n",
       "Date                                                                          \n",
       "2004-08-19    50.050049    52.082081    48.028027    50.220219    50.220219   \n",
       "2004-08-20    50.555557    54.594597    50.300301    54.209209    54.209209   \n",
       "2004-08-23    55.430431    56.796799    54.579578    54.754753    54.754753   \n",
       "2004-08-24    55.675674    55.855858    51.836838    52.487488    52.487488   \n",
       "2004-08-25    52.532532    54.054054    51.991993    53.053055    53.053055   \n",
       "...                 ...          ...          ...          ...          ...   \n",
       "2022-03-18  2668.489990  2724.879883  2645.169922  2722.510010  2722.510010   \n",
       "2022-03-21  2723.270020  2741.000000  2681.850098  2722.030029  2722.030029   \n",
       "2022-03-22  2722.030029  2821.000000  2722.030029  2797.360107  2797.360107   \n",
       "2022-03-23  2774.050049  2791.770020  2756.699951  2765.510010  2765.510010   \n",
       "2022-03-24  2784.000000  2832.379883  2755.010010  2831.439941  2831.439941   \n",
       "\n",
       "              Volume  \n",
       "Date                  \n",
       "2004-08-19  44659096  \n",
       "2004-08-20  22834343  \n",
       "2004-08-23  18256126  \n",
       "2004-08-24  15247337  \n",
       "2004-08-25   9188602  \n",
       "...              ...  \n",
       "2022-03-18   2223100  \n",
       "2022-03-21   1341600  \n",
       "2022-03-22   1774800  \n",
       "2022-03-23   1257700  \n",
       "2022-03-24   1317900  \n",
       "\n",
       "[4431 rows x 6 columns]"
      ]
     },
     "execution_count": 16,
     "metadata": {},
     "output_type": "execute_result"
    }
   ],
   "source": [
    "#Create column for date to use in graph\n",
    "dataset.set_index('Date',inplace=True)\n",
    "dataset"
   ]
  },
  {
   "cell_type": "code",
   "execution_count": 17,
   "id": "c2b970c8",
   "metadata": {},
   "outputs": [
    {
     "data": {
      "text/plain": [
       "443.0"
      ]
     },
     "execution_count": 17,
     "metadata": {},
     "output_type": "execute_result"
    }
   ],
   "source": [
    "#Start test for stationary data\n",
    "#Strat by splitting data into chunks\n",
    "np.round(dataset.shape[0]/10,0)"
   ]
  },
  {
   "cell_type": "code",
   "execution_count": 38,
   "id": "4d09c622",
   "metadata": {},
   "outputs": [],
   "source": [
    "def stationaryTest1(dataset):\n",
    "    split = np.round(dataset.shape[0]/10,0)\n",
    "    #Statistics for each chunks to find if large deviation in \n",
    "    #mean or variance -- data is probably not stationary\n",
    "    mean=[]\n",
    "    std=[]\n",
    "\n",
    "    for i in range(0,10):\n",
    "        mean.append(dataset['High'].iloc[(i*443):(i*443)+443].mean())\n",
    "        std.append(stdev(dataset['High'].iloc[(i*443):(i*443)+443]))\n",
    "    #Chart of mean and std\n",
    "    return(pd.concat([pd.DataFrame(mean,columns=['mean']),pd.DataFrame(std,columns=['std'])], axis=1))\n",
    "def stationaryTest2(dataset):\n",
    "    #Since clearly different in each chunk\n",
    "    #Assume non stationary\n",
    "\n",
    "    #Need more test\n",
    "    #Augmented Dickey-Fuller test\n",
    "    #H0: non stationary\n",
    "    #H1: stationary\n",
    "\n",
    "    result = adfuller(dataset['High'])\n",
    "    print('ADF Statistic: %f' % result[0])\n",
    "    print('p-value: %f' % result[1])\n",
    "    print('Critical Values:')\n",
    "    for key, value in result[4].items():\n",
    "        print('\\t%s: %.3f' % (key, value))\n",
    "    return"
   ]
  },
  {
   "cell_type": "code",
   "execution_count": 39,
   "id": "e20cbffd",
   "metadata": {},
   "outputs": [
    {
     "data": {
      "text/html": [
       "<div>\n",
       "<style scoped>\n",
       "    .dataframe tbody tr th:only-of-type {\n",
       "        vertical-align: middle;\n",
       "    }\n",
       "\n",
       "    .dataframe tbody tr th {\n",
       "        vertical-align: top;\n",
       "    }\n",
       "\n",
       "    .dataframe thead th {\n",
       "        text-align: right;\n",
       "    }\n",
       "</style>\n",
       "<table border=\"1\" class=\"dataframe\">\n",
       "  <thead>\n",
       "    <tr style=\"text-align: right;\">\n",
       "      <th></th>\n",
       "      <th>mean</th>\n",
       "      <th>std</th>\n",
       "    </tr>\n",
       "  </thead>\n",
       "  <tbody>\n",
       "    <tr>\n",
       "      <th>0</th>\n",
       "      <td>140.365196</td>\n",
       "      <td>51.153975</td>\n",
       "    </tr>\n",
       "    <tr>\n",
       "      <th>1</th>\n",
       "      <td>253.262980</td>\n",
       "      <td>46.102784</td>\n",
       "    </tr>\n",
       "    <tr>\n",
       "      <th>2</th>\n",
       "      <td>220.912289</td>\n",
       "      <td>43.122744</td>\n",
       "    </tr>\n",
       "    <tr>\n",
       "      <th>3</th>\n",
       "      <td>277.775461</td>\n",
       "      <td>24.652126</td>\n",
       "    </tr>\n",
       "    <tr>\n",
       "      <th>4</th>\n",
       "      <td>338.114265</td>\n",
       "      <td>47.663683</td>\n",
       "    </tr>\n",
       "    <tr>\n",
       "      <th>5</th>\n",
       "      <td>537.664131</td>\n",
       "      <td>54.208791</td>\n",
       "    </tr>\n",
       "    <tr>\n",
       "      <th>6</th>\n",
       "      <td>710.515983</td>\n",
       "      <td>88.280105</td>\n",
       "    </tr>\n",
       "    <tr>\n",
       "      <th>7</th>\n",
       "      <td>1021.089795</td>\n",
       "      <td>126.361815</td>\n",
       "    </tr>\n",
       "    <tr>\n",
       "      <th>8</th>\n",
       "      <td>1229.109186</td>\n",
       "      <td>124.523716</td>\n",
       "    </tr>\n",
       "    <tr>\n",
       "      <th>9</th>\n",
       "      <td>2263.732568</td>\n",
       "      <td>524.220412</td>\n",
       "    </tr>\n",
       "  </tbody>\n",
       "</table>\n",
       "</div>"
      ],
      "text/plain": [
       "          mean         std\n",
       "0   140.365196   51.153975\n",
       "1   253.262980   46.102784\n",
       "2   220.912289   43.122744\n",
       "3   277.775461   24.652126\n",
       "4   338.114265   47.663683\n",
       "5   537.664131   54.208791\n",
       "6   710.515983   88.280105\n",
       "7  1021.089795  126.361815\n",
       "8  1229.109186  124.523716\n",
       "9  2263.732568  524.220412"
      ]
     },
     "execution_count": 39,
     "metadata": {},
     "output_type": "execute_result"
    }
   ],
   "source": [
    "stationaryTest(dataset)"
   ]
  },
  {
   "cell_type": "code",
   "execution_count": 40,
   "id": "9e36be75",
   "metadata": {},
   "outputs": [
    {
     "name": "stdout",
     "output_type": "stream",
     "text": [
      "ADF Statistic: 3.414008\n",
      "p-value: 1.000000\n",
      "Critical Values:\n",
      "\t1%: -3.432\n",
      "\t5%: -2.862\n",
      "\t10%: -2.567\n"
     ]
    }
   ],
   "source": [
    "stationaryTest2(dataset)"
   ]
  },
  {
   "cell_type": "code",
   "execution_count": 15,
   "id": "01ede6b6",
   "metadata": {},
   "outputs": [
    {
     "name": "stdout",
     "output_type": "stream",
     "text": [
      "ADF Statistic: 3.414008\n",
      "p-value: 1.000000\n",
      "Critical Values:\n",
      "\t1%: -3.432\n",
      "\t5%: -2.862\n",
      "\t10%: -2.567\n"
     ]
    }
   ],
   "source": [
    "#P-values > 0.05 and ADF higher then any critical point\n",
    "#No reason to reject H0 so data is non stationary\n",
    "#This give us info that it will take a long time to train model"
   ]
  },
  {
   "cell_type": "code",
   "execution_count": 96,
   "id": "2746ccb2",
   "metadata": {},
   "outputs": [],
   "source": [
    "#Choose data wanted to predict\n",
    "new_dataset=dataset['High'].iloc[:-4]\n",
    "#Choose step 15 because fit better after testing strat\n",
    "step=15\n",
    "\n",
    "#Split dataset to train 80% and test 20%\n",
    "train_len = math.ceil(len(new_dataset)*0.8)"
   ]
  },
  {
   "cell_type": "code",
   "execution_count": 97,
   "id": "b4fd1ba5",
   "metadata": {},
   "outputs": [],
   "source": [
    "def SplitData(new_dataset,train_len):\n",
    "    train_data = new_dataset[0:train_len]\n",
    "    test_data = new_dataset[train_len-step:]\n",
    "    return(train_data,test_data)\n",
    "def TrainData(dataset):\n",
    "    step=15\n",
    "    #Train dataset\n",
    "    X_train=[]\n",
    "    Y_train=[]\n",
    "\n",
    "    for i in range(step, len(train_data)):\n",
    "        X_train.append(train_data[i-step:i])\n",
    "        Y_train.append(train_data[i])\n",
    "    X_train, Y_train= np.array(X_train), np.array(Y_train)\n",
    "    #Reshaping train data\n",
    "    X_train = np.reshape(X_train, (X_train.shape[0], X_train.shape[1], 1))\n",
    "    print(X_train.shape)\n",
    "    return (X_train, Y_train)\n",
    "def TestData(new_dataset):\n",
    "    #Split test data\n",
    "    test_data = new_dataset[train_len-step:]\n",
    "\n",
    "    X_test=[]\n",
    "    Y_test=[] \n",
    "\n",
    "    for i in range(step, len(test_data)):\n",
    "        X_test.append(test_data[i-step:i])\n",
    "        Y_test.append(test_data[i])\n",
    "    X_test, Y_test = np.array(X_test), np.array(Y_test)\n",
    "    #Reshaping data test\n",
    "    X_test = np.reshape(X_test, (X_test.shape[0], X_test.shape[1],1))\n",
    "    return(X_test,Y_test)"
   ]
  },
  {
   "cell_type": "code",
   "execution_count": 98,
   "id": "6ea69d53",
   "metadata": {},
   "outputs": [],
   "source": [
    "train_data, test_data=SplitData(new_dataset,train_len )"
   ]
  },
  {
   "cell_type": "code",
   "execution_count": 99,
   "id": "5a7b86fe",
   "metadata": {},
   "outputs": [
    {
     "name": "stdout",
     "output_type": "stream",
     "text": [
      "(3527, 15, 1)\n"
     ]
    }
   ],
   "source": [
    "X_train, Y_train =TrainData(dataset)"
   ]
  },
  {
   "cell_type": "code",
   "execution_count": 108,
   "id": "f748342b",
   "metadata": {},
   "outputs": [],
   "source": [
    "def model(dataset):\n",
    "    #Model RNN with layers\n",
    "    model=Sequential()\n",
    "    model.add(SimpleRNN(50,return_sequences=True, activation='relu', input_shape=(X_train.shape[1],1)))\n",
    "    model.add(SimpleRNN(50,return_sequences=False,activation='relu'))\n",
    "    model.add(Dense(100))\n",
    "    model.add(Dense(25))\n",
    "    model.add(Dense(1))\n",
    "\n",
    "    #Compile RNN\n",
    "    opt1=tf.keras.optimizers.Adam(learning_rate=0.001,beta_1=0.9,beta_2=0.999)\n",
    "    model.compile(loss='mean_squared_error', optimizer=opt1)\n",
    "    model.fit(X_train, Y_train, epochs=100, batch_size=10,verbose=0)\n",
    "    return(model)"
   ]
  },
  {
   "cell_type": "code",
   "execution_count": 109,
   "id": "fe31c557",
   "metadata": {},
   "outputs": [],
   "source": [
    "model=model(dataset)"
   ]
  },
  {
   "cell_type": "code",
   "execution_count": 110,
   "id": "63e7ce9b",
   "metadata": {
    "scrolled": true
   },
   "outputs": [],
   "source": [
    "X_test, Y_test = TestData(new_dataset)"
   ]
  },
  {
   "cell_type": "code",
   "execution_count": 111,
   "id": "689ae000",
   "metadata": {},
   "outputs": [
    {
     "name": "stdout",
     "output_type": "stream",
     "text": [
      "28/28 [==============================] - 2s 16ms/step\n"
     ]
    }
   ],
   "source": [
    "prediction = model.predict(X_test)"
   ]
  },
  {
   "cell_type": "code",
   "execution_count": 131,
   "id": "2fc91cc8",
   "metadata": {},
   "outputs": [],
   "source": [
    "def predictionChart(X_test,X_train):\n",
    "    #Prediction\n",
    "    RNN_train_pred = model.predict(X_train)\n",
    "    RNN_valid_pred = model.predict(X_test)\n",
    "    #Chart of prediction and real value\n",
    "    valid = pd.DataFrame(new_dataset[train_len:])\n",
    "    valid['Predictions']=RNN_valid_pred\n",
    "    valid\n",
    "    return(valid,RNN_train_pred,RNN_valid_pred )\n",
    "\n",
    "def predictionGraph1(valid):\n",
    "    plt.plot(valid[['High','Predictions']])\n",
    "    plt.legend(['Validation','Predictions'])\n",
    "    plt.show()\n",
    "    return"
   ]
  },
  {
   "cell_type": "code",
   "execution_count": 132,
   "id": "e5d227ab",
   "metadata": {},
   "outputs": [
    {
     "name": "stdout",
     "output_type": "stream",
     "text": [
      "111/111 [==============================] - 1s 11ms/step\n",
      "28/28 [==============================] - 0s 12ms/step\n"
     ]
    }
   ],
   "source": [
    "valid, RNN_train_pred, RNN_valid_pred  = predictionChart(X_test,X_train)"
   ]
  },
  {
   "cell_type": "code",
   "execution_count": 133,
   "id": "9db30770",
   "metadata": {},
   "outputs": [
    {
     "data": {
      "text/html": [
       "<div>\n",
       "<style scoped>\n",
       "    .dataframe tbody tr th:only-of-type {\n",
       "        vertical-align: middle;\n",
       "    }\n",
       "\n",
       "    .dataframe tbody tr th {\n",
       "        vertical-align: top;\n",
       "    }\n",
       "\n",
       "    .dataframe thead th {\n",
       "        text-align: right;\n",
       "    }\n",
       "</style>\n",
       "<table border=\"1\" class=\"dataframe\">\n",
       "  <thead>\n",
       "    <tr style=\"text-align: right;\">\n",
       "      <th></th>\n",
       "      <th>High</th>\n",
       "      <th>Predictions</th>\n",
       "    </tr>\n",
       "    <tr>\n",
       "      <th>Date</th>\n",
       "      <th></th>\n",
       "      <th></th>\n",
       "    </tr>\n",
       "  </thead>\n",
       "  <tbody>\n",
       "    <tr>\n",
       "      <th>2018-09-13</th>\n",
       "      <td>1187.859985</td>\n",
       "      <td>1191.987671</td>\n",
       "    </tr>\n",
       "    <tr>\n",
       "      <th>2018-09-14</th>\n",
       "      <td>1188.000000</td>\n",
       "      <td>1188.944336</td>\n",
       "    </tr>\n",
       "    <tr>\n",
       "      <th>2018-09-17</th>\n",
       "      <td>1181.819946</td>\n",
       "      <td>1189.287964</td>\n",
       "    </tr>\n",
       "    <tr>\n",
       "      <th>2018-09-18</th>\n",
       "      <td>1181.329956</td>\n",
       "      <td>1182.280884</td>\n",
       "    </tr>\n",
       "    <tr>\n",
       "      <th>2018-09-19</th>\n",
       "      <td>1176.270020</td>\n",
       "      <td>1182.688110</td>\n",
       "    </tr>\n",
       "    <tr>\n",
       "      <th>...</th>\n",
       "      <td>...</td>\n",
       "      <td>...</td>\n",
       "    </tr>\n",
       "    <tr>\n",
       "      <th>2022-03-14</th>\n",
       "      <td>2608.179932</td>\n",
       "      <td>2681.521484</td>\n",
       "    </tr>\n",
       "    <tr>\n",
       "      <th>2022-03-15</th>\n",
       "      <td>2597.090088</td>\n",
       "      <td>2600.343018</td>\n",
       "    </tr>\n",
       "    <tr>\n",
       "      <th>2022-03-16</th>\n",
       "      <td>2666.659912</td>\n",
       "      <td>2601.122803</td>\n",
       "    </tr>\n",
       "    <tr>\n",
       "      <th>2022-03-17</th>\n",
       "      <td>2681.610107</td>\n",
       "      <td>2677.133545</td>\n",
       "    </tr>\n",
       "    <tr>\n",
       "      <th>2022-03-18</th>\n",
       "      <td>2724.879883</td>\n",
       "      <td>2686.668945</td>\n",
       "    </tr>\n",
       "  </tbody>\n",
       "</table>\n",
       "<p>885 rows × 2 columns</p>\n",
       "</div>"
      ],
      "text/plain": [
       "                   High  Predictions\n",
       "Date                                \n",
       "2018-09-13  1187.859985  1191.987671\n",
       "2018-09-14  1188.000000  1188.944336\n",
       "2018-09-17  1181.819946  1189.287964\n",
       "2018-09-18  1181.329956  1182.280884\n",
       "2018-09-19  1176.270020  1182.688110\n",
       "...                 ...          ...\n",
       "2022-03-14  2608.179932  2681.521484\n",
       "2022-03-15  2597.090088  2600.343018\n",
       "2022-03-16  2666.659912  2601.122803\n",
       "2022-03-17  2681.610107  2677.133545\n",
       "2022-03-18  2724.879883  2686.668945\n",
       "\n",
       "[885 rows x 2 columns]"
      ]
     },
     "execution_count": 133,
     "metadata": {},
     "output_type": "execute_result"
    }
   ],
   "source": [
    "valid"
   ]
  },
  {
   "cell_type": "code",
   "execution_count": 134,
   "id": "c634e3d1",
   "metadata": {},
   "outputs": [
    {
     "data": {
      "image/png": "[encoded data removed]",
      "text/plain": [
       "<Figure size 640x480 with 1 Axes>"
      ]
     },
     "metadata": {},
     "output_type": "display_data"
    }
   ],
   "source": [
    "predictionGraph1(valid)"
   ]
  },
  {
   "cell_type": "code",
   "execution_count": 135,
   "id": "e80e2041",
   "metadata": {},
   "outputs": [],
   "source": [
    "def predictionGraph2(valid):\n",
    "    train = new_dataset[:train_len]\n",
    "    valid = pd.DataFrame(new_dataset[train_len:])\n",
    "    valid['Predictions']=RNN_valid_pred\n",
    "\n",
    "    plt.figure(figsize=(16,8))\n",
    "    plt.title('Model RNN')\n",
    "    plt.xlabel('Date')\n",
    "    plt.ylabel('Close Price USD')\n",
    "    plt.plot(train)\n",
    "    plt.plot(valid[['High','Predictions']])\n",
    "    plt.legend(['Train','Validation','Predictions'])\n",
    "    plt.show()\n",
    "    return"
   ]
  },
  {
   "cell_type": "code",
   "execution_count": 136,
   "id": "b7fc3911",
   "metadata": {},
   "outputs": [
    {
     "data": {
      "image/png": "[encoded data removed]",
      "text/plain": [
       "<Figure size 1600x800 with 1 Axes>"
      ]
     },
     "metadata": {},
     "output_type": "display_data"
    }
   ],
   "source": [
    "predictionGraph2(valid)"
   ]
  },
  {
   "cell_type": "code",
   "execution_count": 139,
   "id": "9de55c00",
   "metadata": {},
   "outputs": [],
   "source": [
    "def accuracyRMSE():\n",
    "    #Metric error\n",
    "    print('Train RMSE:', np.sqrt(mean_squared_error(Y_train, RNN_train_pred)))\n",
    "    print('Validation RMSE:', np.sqrt(mean_squared_error(Y_test, RNN_valid_pred)))\n",
    "    return"
   ]
  },
  {
   "cell_type": "code",
   "execution_count": 140,
   "id": "7cf3c340",
   "metadata": {},
   "outputs": [
    {
     "name": "stdout",
     "output_type": "stream",
     "text": [
      "Train RMSE: 6.7830321313142\n",
      "Validation RMSE: 28.636121862957676\n"
     ]
    }
   ],
   "source": [
    "accuracyRMSE()"
   ]
  },
  {
   "cell_type": "code",
   "execution_count": 210,
   "id": "8a3d6bd2",
   "metadata": {},
   "outputs": [],
   "source": [
    "def futurPrediction1(num):\n",
    "    #Predict futur value after 2022-03-18\n",
    "    last_days=new_dataset[-num:].values\n",
    "    X_test=[]\n",
    "    X_test.append(last_days)\n",
    "    X_test=np.array(X_test)\n",
    "    X_test=np.reshape(X_test,(X_test.shape[0],X_test.shape[1],1))\n",
    "    pred_price=model.predict(X_test)\n",
    "    print(pred_price)\n",
    "    return(pred_price)\n",
    "def futurPrediction2(num):\n",
    "    last_days=new_dataset[-num:].values\n",
    "    X_test=[]\n",
    "    #Add price calculated\n",
    "    X_test=np.append(last_days,pred_price)\n",
    "    X_test=np.array(X_test)\n",
    "    X_test\n",
    "    X_test=np.reshape(X_test,(1,X_test.shape[0],1))\n",
    "    pred_price2=model.predict(X_test)\n",
    "    print(pred_price2)\n",
    "    return(pred_price2)\n",
    "def comparePrediction(num):\n",
    "    #display the days after 2022-03-18\n",
    "    print(dataset['High'].iloc[-num])\n",
    "    #Difference\n",
    "    print(dataset['High'].iloc[-num]-pred_price)\n",
    "    #less then 10$\n",
    "\n",
    "    #predicting 4 new value after 2022-03-18\n",
    "    print(dataset.High.tail(14))\n",
    "    return\n"
   ]
  },
  {
   "cell_type": "code",
   "execution_count": 211,
   "id": "2e4754c7",
   "metadata": {},
   "outputs": [],
   "source": [
    "actual_prices=[]\n",
    "pred_prices = []"
   ]
  },
  {
   "cell_type": "code",
   "execution_count": 199,
   "id": "aa4b8df9",
   "metadata": {},
   "outputs": [
    {
     "name": "stdout",
     "output_type": "stream",
     "text": [
      "1/1 [==============================] - 0s 152ms/step\n",
      "[[2731.3489]]\n"
     ]
    }
   ],
   "source": [
    "pred_price = futurPrediction1(10)\n"
   ]
  },
  {
   "cell_type": "code",
   "execution_count": 200,
   "id": "e92ae573",
   "metadata": {},
   "outputs": [
    {
     "name": "stdout",
     "output_type": "stream",
     "text": [
      "2741.0\n",
      "[[9.651123]]\n",
      "Date\n",
      "2022-03-07    2634.699951\n",
      "2022-03-08    2625.000000\n",
      "2022-03-09    2674.709961\n",
      "2022-03-10    2665.439941\n",
      "2022-03-11    2675.909912\n",
      "2022-03-14    2608.179932\n",
      "2022-03-15    2597.090088\n",
      "2022-03-16    2666.659912\n",
      "2022-03-17    2681.610107\n",
      "2022-03-18    2724.879883\n",
      "2022-03-21    2741.000000\n",
      "2022-03-22    2821.000000\n",
      "2022-03-23    2791.770020\n",
      "2022-03-24    2832.379883\n",
      "Name: High, dtype: float64\n"
     ]
    }
   ],
   "source": [
    "comparePrediction(4)"
   ]
  },
  {
   "cell_type": "code",
   "execution_count": 201,
   "id": "521a524c",
   "metadata": {},
   "outputs": [
    {
     "name": "stdout",
     "output_type": "stream",
     "text": [
      "1/1 [==============================] - 0s 245ms/step\n",
      "[[2730.1348]]\n"
     ]
    }
   ],
   "source": [
    "pred_price2 = futurPrediction2(9)"
   ]
  },
  {
   "cell_type": "code",
   "execution_count": 202,
   "id": "35a391e3",
   "metadata": {},
   "outputs": [
    {
     "name": "stdout",
     "output_type": "stream",
     "text": [
      "2821.0\n",
      "[[89.65112]]\n",
      "Date\n",
      "2022-03-07    2634.699951\n",
      "2022-03-08    2625.000000\n",
      "2022-03-09    2674.709961\n",
      "2022-03-10    2665.439941\n",
      "2022-03-11    2675.909912\n",
      "2022-03-14    2608.179932\n",
      "2022-03-15    2597.090088\n",
      "2022-03-16    2666.659912\n",
      "2022-03-17    2681.610107\n",
      "2022-03-18    2724.879883\n",
      "2022-03-21    2741.000000\n",
      "2022-03-22    2821.000000\n",
      "2022-03-23    2791.770020\n",
      "2022-03-24    2832.379883\n",
      "Name: High, dtype: float64\n"
     ]
    }
   ],
   "source": [
    "comparePrediction(3)"
   ]
  },
  {
   "cell_type": "code",
   "execution_count": 206,
   "id": "214ec24b",
   "metadata": {},
   "outputs": [
    {
     "name": "stdout",
     "output_type": "stream",
     "text": [
      "1/1 [==============================] - 0s 195ms/step\n",
      "[[2736.1255]]\n"
     ]
    }
   ],
   "source": [
    "pred_price2 = futurPrediction2(8)"
   ]
  },
  {
   "cell_type": "code",
   "execution_count": 207,
   "id": "da3e9d8e",
   "metadata": {},
   "outputs": [
    {
     "name": "stdout",
     "output_type": "stream",
     "text": [
      "2791.77002\n",
      "[[60.421143]]\n",
      "Date\n",
      "2022-03-07    2634.699951\n",
      "2022-03-08    2625.000000\n",
      "2022-03-09    2674.709961\n",
      "2022-03-10    2665.439941\n",
      "2022-03-11    2675.909912\n",
      "2022-03-14    2608.179932\n",
      "2022-03-15    2597.090088\n",
      "2022-03-16    2666.659912\n",
      "2022-03-17    2681.610107\n",
      "2022-03-18    2724.879883\n",
      "2022-03-21    2741.000000\n",
      "2022-03-22    2821.000000\n",
      "2022-03-23    2791.770020\n",
      "2022-03-24    2832.379883\n",
      "Name: High, dtype: float64\n"
     ]
    }
   ],
   "source": [
    "comparePrediction(2)"
   ]
  },
  {
   "cell_type": "code",
   "execution_count": 208,
   "id": "9e0a1a6c",
   "metadata": {},
   "outputs": [
    {
     "name": "stdout",
     "output_type": "stream",
     "text": [
      "1/1 [==============================] - 0s 346ms/step\n",
      "[[2726.308]]\n"
     ]
    }
   ],
   "source": [
    "pred_price2 = futurPrediction2(7)"
   ]
  },
  {
   "cell_type": "code",
   "execution_count": 209,
   "id": "8884f586",
   "metadata": {},
   "outputs": [
    {
     "name": "stdout",
     "output_type": "stream",
     "text": [
      "2832.379883\n",
      "[[101.031006]]\n",
      "Date\n",
      "2022-03-07    2634.699951\n",
      "2022-03-08    2625.000000\n",
      "2022-03-09    2674.709961\n",
      "2022-03-10    2665.439941\n",
      "2022-03-11    2675.909912\n",
      "2022-03-14    2608.179932\n",
      "2022-03-15    2597.090088\n",
      "2022-03-16    2666.659912\n",
      "2022-03-17    2681.610107\n",
      "2022-03-18    2724.879883\n",
      "2022-03-21    2741.000000\n",
      "2022-03-22    2821.000000\n",
      "2022-03-23    2791.770020\n",
      "2022-03-24    2832.379883\n",
      "Name: High, dtype: float64\n"
     ]
    }
   ],
   "source": [
    "comparePrediction(1)"
   ]
  },
  {
   "cell_type": "code",
   "execution_count": null,
   "id": "1cc5139c",
   "metadata": {},
   "outputs": [],
   "source": []
  }
 ],
 "metadata": {
  "kernelspec": {
   "display_name": "Python 3 (ipykernel)",
   "language": "python",
   "name": "python3"
  },
  "language_info": {
   "codemirror_mode": {
    "name": "ipython",
    "version": 3
   },
   "file_extension": ".py",
   "mimetype": "text/x-python",
   "name": "python",
   "nbconvert_exporter": "python",
   "pygments_lexer": "ipython3",
   "version": "3.9.13"
  }
 },
 "nbformat": 4,
 "nbformat_minor": 5
}
